{
 "cells": [
  {
   "cell_type": "markdown",
   "metadata": {},
   "source": [
    "# Make Sample Questions\n",
    "\n",
    "This notebook starts with a reference to a directory full of documents and an abstract description of the content of those documents.  It then does the following:\n",
    "\n",
    "1. It uses the abstract description of the documents to generate a bunch of questions by calling a question generator model, which is currently set to gpt-4o.  You want a very powerful and smart model for that purpose because generating a large volume of questions from an abstract description is a pretty challenging task.\n",
    "2. It builds a vector database from the content of those documents using Docling to analyze them.\n",
    "3. It uses RAG and a reference answer generator model (also gpt-4o currently) to generate reference answers.  You really need a very powerful model to be the reference answer generator because you're going to be treating these reference answers as ground truth for the smaller and presumably less powerful models that you were trying to actually evaluate in the next notebook.\n",
    "4. It iterates through each of the reference answers and asks the reference answer generator model to assess whether the answer is really answering the question or just saying that it doesn't know.  This is important because often you want a separate analysis for how well each model works on those questions that have reference answers versus how well each model works on those questions where the reference behavior is do not answer because the content doesn't say.\n",
    "5. It stores all of this information in a file for use in the next notebook, [evaluate-using-sample-questions.ipynb](./evaluate-using-sample-questions.ipynb).\n",
    "\n",
    "If you have time, you should also get a human to vet the reference answers and improve them, but that's expensive to do at scale."
   ]
  },
  {
   "cell_type": "markdown",
   "metadata": {},
   "source": [
    "## Import dependencies"
   ]
  },
  {
   "cell_type": "code",
   "execution_count": 1,
   "metadata": {},
   "outputs": [
    {
     "name": "stderr",
     "output_type": "stream",
     "text": [
      "/Users/bmurdock/lls-comparisons/venv-llscomp-311/lib/python3.11/site-packages/tqdm/auto.py:21: TqdmWarning: IProgress not found. Please update jupyter and ipywidgets. See https://ipywidgets.readthedocs.io/en/stable/user_install.html\n",
      "  from .autonotebook import tqdm as notebook_tqdm\n"
     ]
    }
   ],
   "source": [
    "import evaluation_utilities\n",
    "\n",
    "import logging\n",
    "import os\n",
    "import re\n",
    "import requests\n",
    "import importlib\n",
    "from typing import NamedTuple\n",
    "\n",
    "from pathlib import Path\n",
    "\n",
    "from IPython.display import clear_output\n",
    "\n",
    "from llama_index.embeddings.huggingface import HuggingFaceEmbedding\n",
    "from llama_index.llms.openai import OpenAI\n",
    "from llama_index.core.llms import ChatMessage"
   ]
  },
  {
   "cell_type": "code",
   "execution_count": 2,
   "metadata": {},
   "outputs": [
    {
     "data": {
      "text/plain": [
       "<module 'evaluation_utilities' from '/Users/bmurdock/lls-comparisons/evaluation_utilities.py'>"
      ]
     },
     "execution_count": 2,
     "metadata": {},
     "output_type": "execute_result"
    }
   ],
   "source": [
    "# Rerun this cell whenever you change evaluation_utilities\n",
    "importlib.reload(evaluation_utilities)"
   ]
  },
  {
   "cell_type": "markdown",
   "metadata": {},
   "source": [
    "## Configure and initialize models\n",
    "\n",
    "The main configuration options for this notebook are in the following cell, so you may want to edit some values there before running."
   ]
  },
  {
   "cell_type": "code",
   "execution_count": 3,
   "metadata": {},
   "outputs": [],
   "source": [
    "QUESTION_GENERATOR_MODEL_INFO = {\"model\": \"gpt-4o\", \"timeout\": 7200}\n",
    "REFERENCE_ANSWER_GENERATOR_MODEL = {\"model\": \"gpt-4o\"}\n",
    "EMBED_MODEL_ID = \"ibm-granite/granite-embedding-125m-english\"\n",
    "\n",
    "NUM_TOPICS_PER_PROFILE = 20\n",
    "\n",
    "CONTENT_URLS = [\"https://www.ibm.com/downloads/documents/us-en/1227c12d3a38b173\"]\n",
    "CONTENT_LOCATION = \"./docs/\"\n",
    "CONTENT_DESCRIPTION = \"IBM 2024 Annual Report\"\n",
    "EXPERIMENT_SHORT_LABEL_PREFIX = \"ibm-2024b\""
   ]
  },
  {
   "cell_type": "code",
   "execution_count": 4,
   "metadata": {},
   "outputs": [],
   "source": [
    "class UserProfile(NamedTuple):\n",
    "    description: str\n",
    "    number_of_topics: int\n",
    "    number_of_iterations_per_topic: int\n",
    "\n",
    "\n",
    "# For each profile, this will generate N questions of each type per topic, where\n",
    "# N = number_of_topics * number_of_iterations_per_topic * <number of question types, typically 3>.\n",
    "# Put higher numbers for profiles that are more important for your application,\n",
    "# or the same numbers for each if all of your profiles are equally important.\n",
    "BIG_USER_PROFILES = [\n",
    "    UserProfile(\n",
    "        description=\"Professional stock market analyst\",\n",
    "        number_of_topics=50,\n",
    "        number_of_iterations_per_topic=12,\n",
    "    ),\n",
    "    UserProfile(\n",
    "        description=\"Manager at a company that is considering buying an IBM product\",\n",
    "        number_of_topics=10,\n",
    "        number_of_iterations_per_topic=10,\n",
    "    ),\n",
    "    UserProfile(\n",
    "        description=\"High school student taking a business course\",\n",
    "        number_of_topics=5,\n",
    "        number_of_iterations_per_topic=5,\n",
    "    ),\n",
    "    UserProfile(\n",
    "        description=\"Fifth grader who wants to learn about IBM\",\n",
    "        number_of_topics=5,\n",
    "        number_of_iterations_per_topic=3,\n",
    "    ),\n",
    "]\n",
    "\n",
    "# Smaller version for testing.\n",
    "SMALL_USER_PROFILES = [\n",
    "    UserProfile(\n",
    "        description=\"Professional stock market analyst\",\n",
    "        number_of_topics=8,\n",
    "        number_of_iterations_per_topic=2,\n",
    "    ),\n",
    "    UserProfile(\n",
    "        description=\"Manager at a company that is considering buying an IBM product\",\n",
    "        number_of_topics=5,\n",
    "        number_of_iterations_per_topic=1,\n",
    "    ),\n",
    "    UserProfile(\n",
    "        description=\"High school student taking a business course\",\n",
    "        number_of_topics=5,\n",
    "        number_of_iterations_per_topic=1,\n",
    "    ),\n",
    "]\n",
    "\n",
    "# Switch between the sets of user profiles by updating this line.  If you want to run the notebook on the full dataset,\n",
    "# you can set USER_PROFILES to BIG_USER_PROFILES.\n",
    "USER_PROFILES = SMALL_USER_PROFILES"
   ]
  },
  {
   "cell_type": "code",
   "execution_count": 5,
   "metadata": {},
   "outputs": [
    {
     "data": {
      "text/plain": [
       "'ibm-2024b-78'"
      ]
     },
     "execution_count": 5,
     "metadata": {},
     "output_type": "execute_result"
    }
   ],
   "source": [
    "total_number_of_iterations = sum(\n",
    "    [p.number_of_topics * p.number_of_iterations_per_topic * 3 for p in USER_PROFILES]\n",
    ")\n",
    "\n",
    "EXPERIMENT_SHORT_LABEL = f\"{EXPERIMENT_SHORT_LABEL_PREFIX}-{total_number_of_iterations}\"\n",
    "\n",
    "EXPERIMENT_SHORT_LABEL"
   ]
  },
  {
   "cell_type": "code",
   "execution_count": 6,
   "metadata": {},
   "outputs": [],
   "source": [
    "EMBED_MODEL = HuggingFaceEmbedding(model_name=EMBED_MODEL_ID)\n",
    "question_generator_model = OpenAI(**QUESTION_GENERATOR_MODEL_INFO)\n",
    "reference_answer_generator_model = OpenAI(**REFERENCE_ANSWER_GENERATOR_MODEL)"
   ]
  },
  {
   "cell_type": "code",
   "execution_count": 7,
   "metadata": {},
   "outputs": [
    {
     "data": {
      "text/plain": [
       "ChatResponse(message=ChatMessage(role=<MessageRole.ASSISTANT: 'assistant'>, additional_kwargs={}, blocks=[TextBlock(block_type='text', text='Hello, world!')]), raw=ChatCompletion(id='chatcmpl-BoYumCtUO67ZeSoqnbavSBU1NvhR3', choices=[Choice(finish_reason='stop', index=0, logprobs=None, message=ChatCompletionMessage(content='Hello, world!', refusal=None, role='assistant', annotations=[], audio=None, function_call=None, tool_calls=None))], created=1751390312, model='gpt-4o-2024-08-06', object='chat.completion', service_tier='default', system_fingerprint='fp_07871e2ad8', usage=CompletionUsage(completion_tokens=4, prompt_tokens=12, total_tokens=16, completion_tokens_details=CompletionTokensDetails(accepted_prediction_tokens=0, audio_tokens=0, reasoning_tokens=0, rejected_prediction_tokens=0), prompt_tokens_details=PromptTokensDetails(audio_tokens=0, cached_tokens=0))), delta=None, logprobs=None, additional_kwargs={'prompt_tokens': 12, 'completion_tokens': 4, 'total_tokens': 16})"
      ]
     },
     "execution_count": 7,
     "metadata": {},
     "output_type": "execute_result"
    }
   ],
   "source": [
    "messages = [\n",
    "    ChatMessage(role=\"user\", content=\"Say hello to the world\"),\n",
    "]\n",
    "question_generator_model.chat(messages)"
   ]
  },
  {
   "cell_type": "code",
   "execution_count": 8,
   "metadata": {},
   "outputs": [
    {
     "data": {
      "text/plain": [
       "CompletionResponse(text='Hello, world! 🌍', additional_kwargs={'prompt_tokens': 12, 'completion_tokens': 6, 'total_tokens': 18}, raw=ChatCompletion(id='chatcmpl-BoYuniRJoeO0xGir4AcxCJ81CkCUf', choices=[Choice(finish_reason='stop', index=0, logprobs=None, message=ChatCompletionMessage(content='Hello, world! 🌍', refusal=None, role='assistant', annotations=[], audio=None, function_call=None, tool_calls=None))], created=1751390313, model='gpt-4o-2024-08-06', object='chat.completion', service_tier='default', system_fingerprint='fp_a288987b44', usage=CompletionUsage(completion_tokens=6, prompt_tokens=12, total_tokens=18, completion_tokens_details=CompletionTokensDetails(accepted_prediction_tokens=0, audio_tokens=0, reasoning_tokens=0, rejected_prediction_tokens=0), prompt_tokens_details=PromptTokensDetails(audio_tokens=0, cached_tokens=0))), logprobs=None, delta=None)"
      ]
     },
     "execution_count": 8,
     "metadata": {},
     "output_type": "execute_result"
    }
   ],
   "source": [
    "question_generator_model.complete(\"Say hello to the world\")"
   ]
  },
  {
   "cell_type": "markdown",
   "metadata": {},
   "source": [
    "## Download content\n",
    "\n",
    "This downloads the content at the URLs specified in CONTENT_URLS and stores them in CONTENT_LOCATION."
   ]
  },
  {
   "cell_type": "code",
   "execution_count": 9,
   "metadata": {},
   "outputs": [
    {
     "name": "stdout",
     "output_type": "stream",
     "text": [
      "docs/ibm-annual-report-2024.pdf\n"
     ]
    }
   ],
   "source": [
    "def download_file(url: str, output_dir: str | Path):\n",
    "    response = requests.get(url)\n",
    "    if \"content-disposition\" in response.headers:\n",
    "        content_disposition = response.headers[\"content-disposition\"]\n",
    "        filename = content_disposition.split(\"filename=\")[1]\n",
    "        if filename.startswith('\"') and filename.endswith('\"'):\n",
    "            filename = filename[1:-1]\n",
    "    else:\n",
    "        filename = url.split(\"/\")[-1]\n",
    "    target = Path(output_dir, filename)\n",
    "    with open(target, mode=\"wb\") as file:\n",
    "        file.write(response.content)\n",
    "    return target\n",
    "\n",
    "\n",
    "os.makedirs(CONTENT_LOCATION, exist_ok=True)\n",
    "for url in CONTENT_URLS:\n",
    "    target = download_file(url=url, output_dir=CONTENT_LOCATION)\n",
    "    print(target)"
   ]
  },
  {
   "cell_type": "markdown",
   "metadata": {},
   "source": [
    "## Question type prompts\n",
    "\n",
    "These prompts are adapted from Docling SDG's [generation_prompts.py](https://github.com/docling-project/docling-sdg/blob/main/docling_sdg/qa/prompts/generation_prompts.py). However, they've been rewritten to use abstract descriptions of content rather than the content itself. This approach serves two main objectives:\n",
    "\n",
    "*Generating More Realistic and Challenging Questions*\n",
    "\n",
    "First, generating questions from abstract descriptions yields queries that are less directly tied to the specific terminology, level of specificity, and phrasing of the source document's text. Solutions that generate questions directly from document passages, tend to produce questions that closely mirror the original text. This can make it easier to locate relevant documents and extract answers.  That's unhelpful for test data, because it can lead to a misleadingly high assessment of system accuracy. Questions generated this way are inherently easier for systems designed to find direct textual matches, often resulting in artificially inflated performance metrics. By using abstract descriptions, we aim to create a more challenging and realistic test set that better reflects real-world user queries, which often don't precisely echo the source material.\n",
    "\n",
    "*Evaluating Unanswerable Questions*\n",
    "\n",
    "Second, when questions are generated from an abstract understanding of the content, it naturally leads to instances where the generated questions may not be directly answerable by the available content. Many RAG systems are designed with the crucial capability to identify and decline to answer questions for which insufficient information exists within their knowledge base. To effectively evaluate a RAG system's proficiency in this \"unanswerable question\" scenario, it's essential to have a test set that includes examples of queries a user might reasonably pose based on a general understanding of the available content, but which aren't explicitly addressed by the specific documents. This allows for a robust assessment of the system's ability to differentiate between answerable and unanswerable queries.\n",
    "\n",
    "It's important to note that this work builds upon the significant and valuable innovation presented by the Docling SDG project. Their [research](https://aclanthology.org/2025.coling-industry.4/) demonstrates the clear benefit of explicitly prompting for diverse question types (e.g., single-fact, summary, reasoning), leading to a much richer and varied set of generated questions. Our goal is to retain these advantages, leveraging the insights into effective question type prompting, while simultaneously addressing the limitations of existing approaches that generate questions directly from document content instead of from a more abstract representation."
   ]
  },
  {
   "cell_type": "code",
   "execution_count": 10,
   "metadata": {},
   "outputs": [],
   "source": [
    "class MetaPromptFormatter(dict):\n",
    "    def __missing__(self, key):\n",
    "        return f\"{{{key}}}\""
   ]
  },
  {
   "cell_type": "code",
   "execution_count": 11,
   "metadata": {},
   "outputs": [],
   "source": [
    "DEFAULT_META_QUESTION_PROMPT = (\n",
    "    'A \"{type_str}\" question is a question with the following properties:\\n{type_def_str}\\n'\n",
    "    \"I will provide you with an abstract description of some content and a topic and a user profile and a list of existing questions.  \"\n",
    "    'Think of a \"{type_str}\" question that a user with the specified profile might ask that could plausibly be answered using only '\n",
    "    \"information contained in the content and that is distinct from the existing questions.  {additional_instructions_str}\\n\\n\"\n",
    "    \"## Abstract Description of Content\\n\\n{content_description_str}\\n\\n\"\n",
    "    \"## Topic\\n\\n{topic_str}\\n\\n\"\n",
    "    \"## Existing Questions\\n\\n{existing_questions_str}\\n\\n\"\n",
    "    \"## User Profile\\n\\n{user_profile_str}\\n\\n\"\n",
    "    \"\\n\"\n",
    "    \"What question did you think about? Do not say anything other than the question.\"\n",
    ")\n",
    "\n",
    "DEFAULT_FACT_SINGLE_QUESTION_PROMPT = DEFAULT_META_QUESTION_PROMPT.format_map(\n",
    "    MetaPromptFormatter(\n",
    "        type_str=\"single-fact\",\n",
    "        type_def_str=(\n",
    "            \"- It is a natural language question.\\n\"\n",
    "            \"- It is answered with a single piece of factual information.\\n\"\n",
    "        ),\n",
    "    )\n",
    ")\n",
    "\n",
    "DEFAULT_SUMMARY_QUESTION_PROMPT = DEFAULT_META_QUESTION_PROMPT.format_map(\n",
    "    MetaPromptFormatter(\n",
    "        type_str=\"summary\",\n",
    "        type_def_str=(\n",
    "            \"- It is a natural language question.\\n\"\n",
    "            \"- It is answered with a summary of multiple pieces of information.\\n\"\n",
    "            \"- It cannot be answered with a single piece of factual information.\\n\"\n",
    "        ),\n",
    "    )\n",
    ")\n",
    "\n",
    "\n",
    "DEFAULT_REASONING_QUESTION_PROMPT = DEFAULT_META_QUESTION_PROMPT.format_map(\n",
    "    MetaPromptFormatter(\n",
    "        type_str=\"reasoning\",\n",
    "        type_def_str=(\n",
    "            \"- It is a natural language question.\\n\"\n",
    "            \"- It requires the reader to think critically and make an inference or draw a \"\n",
    "            \"conclusion based on the information provided.\\n\"\n",
    "        ),\n",
    "    )\n",
    ")\n",
    "\n",
    "DEFAULT_TOPIC_GENERATION_PROMPT = (\n",
    "    \"I will provide you with an abstract description of a document and a user profile and ask you to generate a list of topics \"\n",
    "    \"that might covered in that document and that a user with that profile might be interested in.\\n\\n\"\n",
    "    \"## Abstract Description of Document\\n\\n{content_description_str}\\n\\n\"\n",
    "    \"## User Profile\\n\\n{user_profile_str}\\n\\n\"\n",
    "    \"Please generate a list of {num_topics} topics.  Generate one topic per line. \"\n",
    "    'For each line, put a number and then a \".\" and then a short description of the topic.  Do not say anything other than the topics.'\n",
    ")"
   ]
  },
  {
   "cell_type": "code",
   "execution_count": 12,
   "metadata": {},
   "outputs": [
    {
     "name": "stdout",
     "output_type": "stream",
     "text": [
      "A \"single-fact\" question is a question with the following properties:\n",
      "- It is a natural language question.\n",
      "- It is answered with a single piece of factual information.\n",
      "\n",
      "I will provide you with an abstract description of some content and a topic and a user profile and a list of existing questions.  Think of a \"single-fact\" question that a user with the specified profile might ask that could plausibly be answered using only information contained in the content and that is distinct from the existing questions.  {additional_instructions_str}\n",
      "\n",
      "## Abstract Description of Content\n",
      "\n",
      "{content_description_str}\n",
      "\n",
      "## Topic\n",
      "\n",
      "{topic_str}\n",
      "\n",
      "## Existing Questions\n",
      "\n",
      "{existing_questions_str}\n",
      "\n",
      "## User Profile\n",
      "\n",
      "{user_profile_str}\n",
      "\n",
      "\n",
      "What question did you think about? Do not say anything other than the question.\n"
     ]
    }
   ],
   "source": [
    "print(DEFAULT_FACT_SINGLE_QUESTION_PROMPT)"
   ]
  },
  {
   "cell_type": "code",
   "execution_count": 13,
   "metadata": {},
   "outputs": [],
   "source": [
    "QUESTION_PROMPTS = {\n",
    "    \"fact\": DEFAULT_FACT_SINGLE_QUESTION_PROMPT,\n",
    "    \"summary\": DEFAULT_SUMMARY_QUESTION_PROMPT,\n",
    "    \"reasoning\": DEFAULT_REASONING_QUESTION_PROMPT,\n",
    "}"
   ]
  },
  {
   "cell_type": "code",
   "execution_count": 14,
   "metadata": {},
   "outputs": [],
   "source": [
    "evaluation_utilities.write_json(QUESTION_PROMPTS, \"question_prompts.json\")"
   ]
  },
  {
   "cell_type": "markdown",
   "metadata": {},
   "source": [
    "## Additional Instructions\n",
    "\n",
    "Next provide a list of additional instruction strings to further adjust the question generation.  \n",
    "\n",
    "We cycle through the additional in order for each question we generate.  It can be useful to have at least\n",
    "one empty string in the list so that the some questions are generated without any specific bias, but then we\n",
    "add in more specific instructions to adjust the balance of different question traits.  This default value tries\n",
    "to reduce the overall length of the questions and introduce some more informal language.\n",
    "\n",
    "The best way to find a good value for the additional instructions strings is to look at the questions that occur in a log of a deployed\n",
    "system similar to the one you're building and compare them to the questions that are generated by the system.  If you see kinds of behaviors\n",
    "that are common in the deployed system, you can add instructions to the list to try to encourage the generated data to match those behaviors.\n",
    "You can repeat entries in the list multiple times to boost the percentage of the data that was generated with that instruction.\n",
    "\n",
    "Note that depending on the model you use, it might not always follow that instruction exactly.  For example, in our testing\n",
    "we found that the instruction \"Make at least one spelling mistake.\" for gpt-4o causes the model to make at least one spelling\n",
    "mistake occasionally, but not consistently.  If it is extremely important to get the model to follow these additional instructions\n",
    "reliably, it might make sense to adjust the prompt template to emphasize them more (e.g., adding \"Remember to follow the special\n",
    "instruction: {additional_instructions_str} to the end of the prompt).  However, emphasizing the special instruction could draw\n",
    "attention away from the other instructions (the question type definition, user profile, etc.), so you only want to do it\n",
    "if the additional instructions are very important.  If they are just intended to be a gentle nudge in some direction to try\n",
    "to get a little more of some behavior or a little less of another, then it might be fine to just accept that they won't be\n",
    "followed all the time."
   ]
  },
  {
   "cell_type": "code",
   "execution_count": 15,
   "metadata": {},
   "outputs": [],
   "source": [
    "DEFAULT_ADDITIONAL_INSTRUCTIONS_STRINGS = [\n",
    "    \"\",\n",
    "    \"Keep the question concise and specific.\",\n",
    "    \"Make at least one spelling mistake.\",\n",
    "    \"Whenever possible, abbreviate common words as if you were writing a text message.\",\n",
    "    \"Keep the question to 10 words or less.\",\n",
    "    \"Keep the question to 15 words or less.\",\n",
    "]"
   ]
  },
  {
   "cell_type": "code",
   "execution_count": 16,
   "metadata": {},
   "outputs": [
    {
     "name": "stdout",
     "output_type": "stream",
     "text": [
      "A \"summary\" question is a question with the following properties:\n",
      "- It is a natural language question.\n",
      "- It is answered with a summary of multiple pieces of information.\n",
      "- It cannot be answered with a single piece of factual information.\n",
      "\n",
      "I will provide you with an abstract description of some content and a topic and a user profile and a list of existing questions.  Think of a \"summary\" question that a user with the specified profile might ask that could plausibly be answered using only information contained in the content and that is distinct from the existing questions.  Avoid compound multiple-part questions such as \"What is X, and how does X affect Y\"\n",
      "\n",
      "## Abstract Description of Content\n",
      "\n",
      "Stuff about content\n",
      "\n",
      "## Topic\n",
      "\n",
      "A topic\n",
      "\n",
      "## Existing Questions\n",
      "\n",
      "Who?\n",
      "When?\n",
      "Where?\n",
      "\n",
      "## User Profile\n",
      "\n",
      "Professional stock market analyst\n",
      "\n",
      "\n",
      "What question did you think about? Do not say anything other than the question.\n"
     ]
    }
   ],
   "source": [
    "print(\n",
    "    DEFAULT_SUMMARY_QUESTION_PROMPT.format(\n",
    "        content_description_str=\"Stuff about content\",\n",
    "        topic_str=\"A topic\",\n",
    "        existing_questions_str=\"Who?\\nWhen?\\nWhere?\",\n",
    "        additional_instructions_str='Avoid compound multiple-part questions such as \"What is X, and how does X affect Y\"',\n",
    "        user_profile_str=USER_PROFILES[0].description,\n",
    "    )\n",
    ")"
   ]
  },
  {
   "cell_type": "markdown",
   "metadata": {},
   "source": [
    "## Generate topics"
   ]
  },
  {
   "cell_type": "code",
   "execution_count": 17,
   "metadata": {},
   "outputs": [],
   "source": [
    "# Run with just 3 topics to show what the outputs can look like before continuing on with the full generation using the NUM_TOPICS constant.\n",
    "message = DEFAULT_TOPIC_GENERATION_PROMPT.format(\n",
    "    content_description_str=CONTENT_DESCRIPTION,\n",
    "    num_topics=3,\n",
    "    user_profile_str=USER_PROFILES[0].description,\n",
    ")\n",
    "messages = [ChatMessage(role=\"user\", content=message)]\n",
    "resp = question_generator_model.chat(messages)"
   ]
  },
  {
   "cell_type": "code",
   "execution_count": 18,
   "metadata": {},
   "outputs": [
    {
     "name": "stdout",
     "output_type": "stream",
     "text": [
      "1. Financial Performance and Revenue Growth  \n",
      "2. Strategic Initiatives and Market Positioning  \n",
      "3. Technological Innovations and Future Outlook\n"
     ]
    }
   ],
   "source": [
    "print(resp.message.blocks[0].text)"
   ]
  },
  {
   "cell_type": "code",
   "execution_count": 19,
   "metadata": {},
   "outputs": [],
   "source": [
    "# Assisted by Google Gemini\n",
    "def extract_list_items(text_block: str) -> list[str]:\n",
    "    \"\"\"\n",
    "    Extracts items from a multi-line string.\n",
    "\n",
    "    It handles:\n",
    "    - Optional blank lines between items.\n",
    "    - Optional numbering (e.g., \"1.\", \"1 \", \"2.\") at the start of lines.\n",
    "    It returns a list of strings, with numbers and blank lines removed,\n",
    "    and each item stripped of leading/trailing whitespace.\n",
    "\n",
    "    Args:\n",
    "        text_block: The multi-line string to process.\n",
    "\n",
    "    Returns:\n",
    "        A list of extracted string values.\n",
    "    \"\"\"\n",
    "    items = []\n",
    "    # Regex to identify leading numbers followed by an optional period and optional whitespace.\n",
    "    # Example: \"1.\", \"1 \", \"  1. \", \"2 \"\n",
    "    # This pattern is applied to lines that have already had their outer whitespace stripped.\n",
    "    # ^      Matches the beginning of the string (the stripped line).\n",
    "    # \\d+    Matches one or more digits (the number).\n",
    "    # \\.?    Matches an optional literal period.\n",
    "    # \\s* Matches zero or more whitespace characters following the number/period.\n",
    "    number_prefix_pattern = re.compile(r\"^\\d+\\.?\\s*\")\n",
    "\n",
    "    for line in text_block.splitlines():\n",
    "        # 1. Remove leading/trailing whitespace from the current line.\n",
    "        stripped_line = line.strip()\n",
    "\n",
    "        # 2. If the line is blank after stripping, skip it.\n",
    "        if not stripped_line:\n",
    "            continue\n",
    "\n",
    "        # 3. Remove the number prefix, if present.\n",
    "        #    The sub() method replaces the matched pattern with an empty string.\n",
    "        item_text = number_prefix_pattern.sub(\"\", stripped_line)\n",
    "\n",
    "        # 4. Strip any leading/trailing whitespace that might remain on the item_text.\n",
    "        #    This is important if the original item had spaces after the number,\n",
    "        #    or if the item itself had leading/trailing spaces (which strip() in step 1\n",
    "        #    would have handled if no number was present, but this ensures cleanliness\n",
    "        #    after potential prefix removal).\n",
    "        final_item_text = item_text.strip()\n",
    "\n",
    "        # 5. Add the cleaned item to the list, only if it's not empty.\n",
    "        #    (e.g., a line like \"1.\" would become \"\" after processing).\n",
    "        if final_item_text:\n",
    "            items.append(final_item_text)\n",
    "\n",
    "    return items"
   ]
  },
  {
   "cell_type": "code",
   "execution_count": 20,
   "metadata": {},
   "outputs": [],
   "source": [
    "def generate_topics(\n",
    "    prompt, content_description, question_generator_model, user_profiles\n",
    "):\n",
    "    retval = []\n",
    "    for user_profile in user_profiles:\n",
    "        message = prompt.format(\n",
    "            content_description_str=content_description,\n",
    "            num_topics=user_profile.number_of_topics,\n",
    "            user_profile_str=user_profile.description,\n",
    "        )\n",
    "        messages = [ChatMessage(role=\"user\", content=message)]\n",
    "        resp = question_generator_model.chat(messages)\n",
    "        response_text = resp.message.blocks[0].text\n",
    "        topics = extract_list_items(response_text)\n",
    "        retval.append((user_profile, topics))\n",
    "    return retval"
   ]
  },
  {
   "cell_type": "code",
   "execution_count": 21,
   "metadata": {},
   "outputs": [
    {
     "data": {
      "text/plain": [
       "[(UserProfile(description='Professional stock market analyst', number_of_topics=8, number_of_iterations_per_topic=2),\n",
       "  ['Financial Performance and Revenue Growth',\n",
       "   'Strategic Initiatives and Business Outlook',\n",
       "   'Technological Innovations and R&D Investments',\n",
       "   'Market Position and Competitive Analysis',\n",
       "   'Sustainability and Corporate Social Responsibility',\n",
       "   'Risk Management and Regulatory Compliance',\n",
       "   'Shareholder Returns and Dividend Policies',\n",
       "   'Mergers, Acquisitions, and Partnerships']),\n",
       " (UserProfile(description='Manager at a company that is considering buying an IBM product', number_of_topics=5, number_of_iterations_per_topic=1),\n",
       "  ['Financial Performance and Revenue Growth',\n",
       "   'Product Innovations and New Offerings',\n",
       "   'Market Trends and Competitive Positioning',\n",
       "   'Sustainability and Corporate Responsibility Initiatives',\n",
       "   'Strategic Partnerships and Collaborations']),\n",
       " (UserProfile(description='High school student taking a business course', number_of_topics=5, number_of_iterations_per_topic=1),\n",
       "  [\"Overview of IBM's Financial Performance\",\n",
       "   'Key Innovations and Technological Developments',\n",
       "   'Corporate Social Responsibility Initiatives',\n",
       "   'Analysis of Market Trends and Competitive Position',\n",
       "   'Future Business Strategies and Goals'])]"
      ]
     },
     "execution_count": 21,
     "metadata": {},
     "output_type": "execute_result"
    }
   ],
   "source": [
    "profiles_with_topics = generate_topics(\n",
    "    DEFAULT_TOPIC_GENERATION_PROMPT,\n",
    "    CONTENT_DESCRIPTION,\n",
    "    question_generator_model,\n",
    "    USER_PROFILES,\n",
    ")\n",
    "profiles_with_topics"
   ]
  },
  {
   "cell_type": "code",
   "execution_count": 22,
   "metadata": {},
   "outputs": [
    {
     "data": {
      "text/plain": [
       "78"
      ]
     },
     "execution_count": 22,
     "metadata": {},
     "output_type": "execute_result"
    }
   ],
   "source": [
    "def compute_num_questions_expected(profiles_with_topics, question_prompts):\n",
    "    num_question_prompts = len(question_prompts)\n",
    "    n = 0\n",
    "    for user_profile, topics in profiles_with_topics:\n",
    "        n += (\n",
    "            len(topics)\n",
    "            * user_profile.number_of_iterations_per_topic\n",
    "            * num_question_prompts\n",
    "        )\n",
    "    return n\n",
    "\n",
    "\n",
    "compute_num_questions_expected(profiles_with_topics, QUESTION_PROMPTS)"
   ]
  },
  {
   "cell_type": "markdown",
   "metadata": {},
   "source": [
    "## Generate questions for each topic"
   ]
  },
  {
   "cell_type": "code",
   "execution_count": 23,
   "metadata": {},
   "outputs": [
    {
     "name": "stdout",
     "output_type": "stream",
     "text": [
      "A \"summary\" question is a question with the following properties:\n",
      "- It is a natural language question.\n",
      "- It is answered with a summary of multiple pieces of information.\n",
      "- It cannot be answered with a single piece of factual information.\n",
      "\n",
      "I will provide you with an abstract description of some content and a topic and a user profile and a list of existing questions.  Think of a \"summary\" question that a user with the specified profile might ask that could plausibly be answered using only information contained in the content and that is distinct from the existing questions.  Keep the question to 10 words or less.\n",
      "\n",
      "## Abstract Description of Content\n",
      "\n",
      "IBM 2024 Annual Report\n",
      "\n",
      "## Topic\n",
      "\n",
      "Financial Performance and Revenue Growth\n",
      "\n",
      "## Existing Questions\n",
      "\n",
      "NONE\n",
      "\n",
      "## User Profile\n",
      "\n",
      "Professional stock market analyst\n",
      "\n",
      "\n",
      "What question did you think about? Do not say anything other than the question.\n"
     ]
    }
   ],
   "source": [
    "existing_questions = []\n",
    "\n",
    "question_prompt = DEFAULT_SUMMARY_QUESTION_PROMPT\n",
    "user_profile = profiles_with_topics[0][0]\n",
    "topic = profiles_with_topics[0][1][0]\n",
    "\n",
    "existing_questions_str = \"\\n\".join(existing_questions) if existing_questions else \"NONE\"\n",
    "message = question_prompt.format(\n",
    "    content_description_str=CONTENT_DESCRIPTION,\n",
    "    topic_str=topic,\n",
    "    existing_questions_str=existing_questions_str,\n",
    "    user_profile_str=user_profile.description,\n",
    "    additional_instructions_str=\"Keep the question to 10 words or less.\",\n",
    ")\n",
    "print(message)\n",
    "messages = [ChatMessage(role=\"user\", content=message)]\n",
    "resp = question_generator_model.chat(messages)"
   ]
  },
  {
   "cell_type": "code",
   "execution_count": 24,
   "metadata": {},
   "outputs": [
    {
     "name": "stdout",
     "output_type": "stream",
     "text": [
      "What are the key drivers of IBM's revenue growth?\n"
     ]
    }
   ],
   "source": [
    "existing_questions.append(resp.message.blocks[0].text)\n",
    "print(resp.message.blocks[0].text)"
   ]
  },
  {
   "cell_type": "code",
   "execution_count": 25,
   "metadata": {},
   "outputs": [
    {
     "name": "stdout",
     "output_type": "stream",
     "text": [
      "A \"summary\" question is a question with the following properties:\n",
      "- It is a natural language question.\n",
      "- It is answered with a summary of multiple pieces of information.\n",
      "- It cannot be answered with a single piece of factual information.\n",
      "\n",
      "I will provide you with an abstract description of some content and a topic and a user profile and a list of existing questions.  Think of a \"summary\" question that a user with the specified profile might ask that could plausibly be answered using only information contained in the content and that is distinct from the existing questions.  Keep the question to 10 words or less.\n",
      "\n",
      "## Abstract Description of Content\n",
      "\n",
      "IBM 2024 Annual Report\n",
      "\n",
      "## Topic\n",
      "\n",
      "Financial Performance and Revenue Growth\n",
      "\n",
      "## Existing Questions\n",
      "\n",
      "What are the key drivers of IBM's revenue growth?\n",
      "\n",
      "## User Profile\n",
      "\n",
      "Professional stock market analyst\n",
      "\n",
      "\n",
      "What question did you think about? Do not say anything other than the question.\n"
     ]
    }
   ],
   "source": [
    "existing_questions_str = \"\\n\".join(existing_questions) if existing_questions else \"NONE\"\n",
    "message = question_prompt.format(\n",
    "    content_description_str=CONTENT_DESCRIPTION,\n",
    "    topic_str=topic,\n",
    "    existing_questions_str=existing_questions_str,\n",
    "    user_profile_str=user_profile.description,\n",
    "    additional_instructions_str=\"Keep the question to 10 words or less.\",\n",
    ")\n",
    "\n",
    "print(message)\n",
    "messages = [ChatMessage(role=\"user\", content=message)]\n",
    "resp = question_generator_model.chat(messages)"
   ]
  },
  {
   "cell_type": "code",
   "execution_count": 26,
   "metadata": {},
   "outputs": [
    {
     "name": "stdout",
     "output_type": "stream",
     "text": [
      "How did IBM's financial performance change compared to last year?\n"
     ]
    }
   ],
   "source": [
    "existing_questions.append(resp.message.blocks[0].text)\n",
    "print(resp.message.blocks[0].text)"
   ]
  },
  {
   "cell_type": "code",
   "execution_count": 27,
   "metadata": {},
   "outputs": [
    {
     "data": {
      "text/plain": [
       "{'fact': 'A \"single-fact\" question is a question with the following properties:\\n- It is a natural language question.\\n- It is answered with a single piece of factual information.\\n\\nI will provide you with an abstract description of some content and a topic and a user profile and a list of existing questions.  Think of a \"single-fact\" question that a user with the specified profile might ask that could plausibly be answered using only information contained in the content and that is distinct from the existing questions.  {additional_instructions_str}\\n\\n## Abstract Description of Content\\n\\n{content_description_str}\\n\\n## Topic\\n\\n{topic_str}\\n\\n## Existing Questions\\n\\n{existing_questions_str}\\n\\n## User Profile\\n\\n{user_profile_str}\\n\\n\\nWhat question did you think about? Do not say anything other than the question.',\n",
       " 'summary': 'A \"summary\" question is a question with the following properties:\\n- It is a natural language question.\\n- It is answered with a summary of multiple pieces of information.\\n- It cannot be answered with a single piece of factual information.\\n\\nI will provide you with an abstract description of some content and a topic and a user profile and a list of existing questions.  Think of a \"summary\" question that a user with the specified profile might ask that could plausibly be answered using only information contained in the content and that is distinct from the existing questions.  {additional_instructions_str}\\n\\n## Abstract Description of Content\\n\\n{content_description_str}\\n\\n## Topic\\n\\n{topic_str}\\n\\n## Existing Questions\\n\\n{existing_questions_str}\\n\\n## User Profile\\n\\n{user_profile_str}\\n\\n\\nWhat question did you think about? Do not say anything other than the question.',\n",
       " 'reasoning': 'A \"reasoning\" question is a question with the following properties:\\n- It is a natural language question.\\n- It requires the reader to think critically and make an inference or draw a conclusion based on the information provided.\\n\\nI will provide you with an abstract description of some content and a topic and a user profile and a list of existing questions.  Think of a \"reasoning\" question that a user with the specified profile might ask that could plausibly be answered using only information contained in the content and that is distinct from the existing questions.  {additional_instructions_str}\\n\\n## Abstract Description of Content\\n\\n{content_description_str}\\n\\n## Topic\\n\\n{topic_str}\\n\\n## Existing Questions\\n\\n{existing_questions_str}\\n\\n## User Profile\\n\\n{user_profile_str}\\n\\n\\nWhat question did you think about? Do not say anything other than the question.'}"
      ]
     },
     "execution_count": 27,
     "metadata": {},
     "output_type": "execute_result"
    }
   ],
   "source": [
    "QUESTION_PROMPTS"
   ]
  },
  {
   "cell_type": "markdown",
   "metadata": {},
   "source": [
    "'A \"single-fact\" question is a question with the following properties:\\n- It is a natural language question.\\n- It is answered with a single piece of factual information.\\n\\nI will provide you with an abstract description of some content and a topic and a user profile and a list of existing questions.\\nThink of a \"single-fact\" question that a user with the specified profile might ask that could plausibly be answered using only information contained in the content and that is distinct from the existing questions.\\n\\n## Abstract Description of Content\\n\\nIBM 2024 Annual Report\\n\\n## Topic\\n\\nIBM\\'s 2024 financial performance overview\\n\\n## Existing Questions\\n\\nNONE\\n\\n## User Profile\\n\\nProfessional stock market analyst\\n\\n\\nWhat question did you think about? Do not say anything other than the question.'"
   ]
  },
  {
   "cell_type": "code",
   "execution_count": 28,
   "metadata": {},
   "outputs": [],
   "source": [
    "# Now we put all the pieces above into a function that iterates through all the topics, question prompts, and repeats a given number of times.\n",
    "# We also add a list of additional instructions strings that will be used to generate the questions.  We cycle through the additional instructions\n",
    "# in order.  This is useful for generating questions that are slightly different from each other and for tweaking the balance of different question\n",
    "# traits.  For example, if your average question is too long, you can include additional instructions to make the questions shorter and have it apply\n",
    "# to only a subset of the questions.\n",
    "def generate_questions(\n",
    "    profiles_with_topics,\n",
    "    content_description,\n",
    "    question_prompts,\n",
    "    question_generator_model,\n",
    "    additional_instructions_strings,\n",
    "):\n",
    "    all_questions_with_prompts_and_topics_and_profiles = []\n",
    "    num_questions_expected = compute_num_questions_expected(\n",
    "        profiles_with_topics, question_prompts\n",
    "    )\n",
    "    i = 1\n",
    "    for user_profile, topics in profiles_with_topics:\n",
    "        for topic in topics:\n",
    "            for question_prompt_label, question_prompt in question_prompts.items():\n",
    "                existing_questions_for_topic_and_prompt = []\n",
    "                for _ in range(user_profile.number_of_iterations_per_topic):\n",
    "                    additional_instructions_string = additional_instructions_strings[\n",
    "                        i % len(additional_instructions_strings)\n",
    "                    ]\n",
    "                    existing_questions_str = (\n",
    "                        \"\\n\".join(existing_questions_for_topic_and_prompt)\n",
    "                        if existing_questions_for_topic_and_prompt\n",
    "                        else \"NONE\"\n",
    "                    )\n",
    "                    message = question_prompt.format(\n",
    "                        content_description_str=content_description,\n",
    "                        topic_str=topic,\n",
    "                        existing_questions_str=existing_questions_str,\n",
    "                        user_profile_str=user_profile.description,\n",
    "                        additional_instructions_str=additional_instructions_string,\n",
    "                    )\n",
    "                    messages = [ChatMessage(role=\"user\", content=message)]\n",
    "                    resp = question_generator_model.chat(messages)\n",
    "                    question_text = resp.message.blocks[0].text\n",
    "                    existing_questions_for_topic_and_prompt.append(question_text)\n",
    "                    # Note that what we're storing here is the question/prompt/topic tuple.  What we really want as an output is just the question, but the prompt and topic might be useful for understanding where the question came from.\n",
    "                    all_questions_with_prompts_and_topics_and_profiles.append(\n",
    "                        (\n",
    "                            question_text,\n",
    "                            question_prompt_label,\n",
    "                            topic,\n",
    "                            user_profile.description,\n",
    "                            additional_instructions_string,\n",
    "                        )\n",
    "                    )\n",
    "                    clear_output(wait=True)\n",
    "                    print(f\"{i} / {num_questions_expected}\")\n",
    "                    i += 1\n",
    "    return all_questions_with_prompts_and_topics_and_profiles"
   ]
  },
  {
   "cell_type": "code",
   "execution_count": 29,
   "metadata": {},
   "outputs": [
    {
     "name": "stdout",
     "output_type": "stream",
     "text": [
      "78 / 78\n"
     ]
    }
   ],
   "source": [
    "all_questions_with_prompts_and_topics_and_profiles = generate_questions(\n",
    "    profiles_with_topics,\n",
    "    CONTENT_DESCRIPTION,\n",
    "    QUESTION_PROMPTS,\n",
    "    question_generator_model,\n",
    "    DEFAULT_ADDITIONAL_INSTRUCTIONS_STRINGS,\n",
    ")"
   ]
  },
  {
   "cell_type": "code",
   "execution_count": 30,
   "metadata": {},
   "outputs": [
    {
     "data": {
      "text/plain": [
       "[(\"What was IBM's total revenue for the year 2024?\",\n",
       "  'fact',\n",
       "  'Financial Performance and Revenue Growth',\n",
       "  'Professional stock market analyst',\n",
       "  'Keep the question concise and specific.'),\n",
       " (\"What was IBM's net income for 2024?\",\n",
       "  'fact',\n",
       "  'Financial Performance and Revenue Growth',\n",
       "  'Professional stock market analyst',\n",
       "  'Make at least one spelling mistake.'),\n",
       " (\"What r the key drivers behind IBM's rev growth in 2024?\",\n",
       "  'summary',\n",
       "  'Financial Performance and Revenue Growth',\n",
       "  'Professional stock market analyst',\n",
       "  'Whenever possible, abbreviate common words as if you were writing a text message.'),\n",
       " (\"How did IBM's financial performance compare to previous years?\",\n",
       "  'summary',\n",
       "  'Financial Performance and Revenue Growth',\n",
       "  'Professional stock market analyst',\n",
       "  'Keep the question to 10 words or less.'),\n",
       " (\"How did IBM's revenue growth in 2024 compare to industry averages?\",\n",
       "  'reasoning',\n",
       "  'Financial Performance and Revenue Growth',\n",
       "  'Professional stock market analyst',\n",
       "  'Keep the question to 15 words or less.'),\n",
       " (\"What were the key factors driving IBM's financial performance in 2024, and how might these influence future revenue growth?\",\n",
       "  'reasoning',\n",
       "  'Financial Performance and Revenue Growth',\n",
       "  'Professional stock market analyst',\n",
       "  ''),\n",
       " (\"What are IBM's key strategic initiatives for 2024?\",\n",
       "  'fact',\n",
       "  'Strategic Initiatives and Business Outlook',\n",
       "  'Professional stock market analyst',\n",
       "  'Keep the question concise and specific.'),\n",
       " (\"What is IBM's projected revenue growth rate for 2024?\",\n",
       "  'fact',\n",
       "  'Strategic Initiatives and Business Outlook',\n",
       "  'Professional stock market analyst',\n",
       "  'Make at least one spelling mistake.'),\n",
       " (\"What r IBM's key strategic initiatives for 2024 and how might they impact future business growth?\",\n",
       "  'summary',\n",
       "  'Strategic Initiatives and Business Outlook',\n",
       "  'Professional stock market analyst',\n",
       "  'Whenever possible, abbreviate common words as if you were writing a text message.'),\n",
       " (\"How will IBM's strategic initiatives affect market competitiveness?\",\n",
       "  'summary',\n",
       "  'Strategic Initiatives and Business Outlook',\n",
       "  'Professional stock market analyst',\n",
       "  'Keep the question to 10 words or less.'),\n",
       " (\"How might IBM's strategic initiatives impact its market position in the next fiscal year?\",\n",
       "  'reasoning',\n",
       "  'Strategic Initiatives and Business Outlook',\n",
       "  'Professional stock market analyst',\n",
       "  'Keep the question to 15 words or less.'),\n",
       " ('What potential risks and challenges could IBM face in executing its strategic initiatives, and how might these affect its financial performance in the upcoming year?',\n",
       "  'reasoning',\n",
       "  'Strategic Initiatives and Business Outlook',\n",
       "  'Professional stock market analyst',\n",
       "  ''),\n",
       " (\"What was IBM's total investment in research and development in 2024?\",\n",
       "  'fact',\n",
       "  'Technological Innovations and R&D Investments',\n",
       "  'Professional stock market analyst',\n",
       "  'Keep the question concise and specific.'),\n",
       " ('What new technolgies did IBM introduce in 2024?',\n",
       "  'fact',\n",
       "  'Technological Innovations and R&D Investments',\n",
       "  'Professional stock market analyst',\n",
       "  'Make at least one spelling mistake.'),\n",
       " ('What r the key tech innovations and R&D investments IBM focused on in 2024, and how might they impact future growth?',\n",
       "  'summary',\n",
       "  'Technological Innovations and R&D Investments',\n",
       "  'Professional stock market analyst',\n",
       "  'Whenever possible, abbreviate common words as if you were writing a text message.'),\n",
       " (\"How did IBM's R&D spending change compared to previous years?\",\n",
       "  'summary',\n",
       "  'Technological Innovations and R&D Investments',\n",
       "  'Professional stock market analyst',\n",
       "  'Keep the question to 10 words or less.'),\n",
       " (\"How might IBM's R&D investments impact its future stock performance?\",\n",
       "  'reasoning',\n",
       "  'Technological Innovations and R&D Investments',\n",
       "  'Professional stock market analyst',\n",
       "  'Keep the question to 15 words or less.'),\n",
       " ('What are the potential long-term competitive advantages IBM could gain from its current technological innovations and R&D investments?',\n",
       "  'reasoning',\n",
       "  'Technological Innovations and R&D Investments',\n",
       "  'Professional stock market analyst',\n",
       "  ''),\n",
       " (\"What is IBM's market share in the cloud computing sector according to the 2024 Annual Report?\",\n",
       "  'fact',\n",
       "  'Market Position and Competitive Analysis',\n",
       "  'Professional stock market analyst',\n",
       "  'Keep the question concise and specific.'),\n",
       " (\"What are IBM's main compettitors in the AI industry as mentioned in the 2024 Annual Report?\",\n",
       "  'fact',\n",
       "  'Market Position and Competitive Analysis',\n",
       "  'Professional stock market analyst',\n",
       "  'Make at least one spelling mistake.'),\n",
       " (\"How does IBM's market position compare 2 its main competitors in 2024?\",\n",
       "  'summary',\n",
       "  'Market Position and Competitive Analysis',\n",
       "  'Professional stock market analyst',\n",
       "  'Whenever possible, abbreviate common words as if you were writing a text message.'),\n",
       " (\"What are IBM's strategic advantages over competitors in 2024?\",\n",
       "  'summary',\n",
       "  'Market Position and Competitive Analysis',\n",
       "  'Professional stock market analyst',\n",
       "  'Keep the question to 10 words or less.'),\n",
       " (\"How does IBM's market position compare to its main competitors in 2024?\",\n",
       "  'reasoning',\n",
       "  'Market Position and Competitive Analysis',\n",
       "  'Professional stock market analyst',\n",
       "  'Keep the question to 15 words or less.'),\n",
       " ('What strategic initiatives has IBM implemented in 2024 to strengthen its competitive position in the market?',\n",
       "  'reasoning',\n",
       "  'Market Position and Competitive Analysis',\n",
       "  'Professional stock market analyst',\n",
       "  ''),\n",
       " (\"What is IBM's total investment in sustainability initiatives as reported in the 2024 Annual Report?\",\n",
       "  'fact',\n",
       "  'Sustainability and Corporate Social Responsibility',\n",
       "  'Professional stock market analyst',\n",
       "  'Keep the question concise and specific.'),\n",
       " (\"What are IBM's carbon emmissions reduction targets for 2024?\",\n",
       "  'fact',\n",
       "  'Sustainability and Corporate Social Responsibility',\n",
       "  'Professional stock market analyst',\n",
       "  'Make at least one spelling mistake.'),\n",
       " (\"What r IBM's key sustainability initiatives in 2024 and how do they impact their financial performance?\",\n",
       "  'summary',\n",
       "  'Sustainability and Corporate Social Responsibility',\n",
       "  'Professional stock market analyst',\n",
       "  'Whenever possible, abbreviate common words as if you were writing a text message.'),\n",
       " (\"How does IBM's 2024 sustainability strategy compare to competitors?\",\n",
       "  'summary',\n",
       "  'Sustainability and Corporate Social Responsibility',\n",
       "  'Professional stock market analyst',\n",
       "  'Keep the question to 10 words or less.'),\n",
       " (\"How does IBM's sustainability strategy impact its long-term financial performance projections?\",\n",
       "  'reasoning',\n",
       "  'Sustainability and Corporate Social Responsibility',\n",
       "  'Professional stock market analyst',\n",
       "  'Keep the question to 15 words or less.'),\n",
       " (\"How does IBM's approach to sustainability and corporate social responsibility influence its risk management strategies and potential regulatory compliance costs?\",\n",
       "  'reasoning',\n",
       "  'Sustainability and Corporate Social Responsibility',\n",
       "  'Professional stock market analyst',\n",
       "  ''),\n",
       " (\"What is IBM's primary risk management strategy mentioned in the 2024 Annual Report?\",\n",
       "  'fact',\n",
       "  'Risk Management and Regulatory Compliance',\n",
       "  'Professional stock market analyst',\n",
       "  'Keep the question concise and specific.'),\n",
       " ('What are the key regulatory challenges IBM faced in 2024 according to the annual report?',\n",
       "  'fact',\n",
       "  'Risk Management and Regulatory Compliance',\n",
       "  'Professional stock market analyst',\n",
       "  'Make at least one spelling mistake.'),\n",
       " ('What r key risk factors IBM faces in 2024 and how is it addressing regulatory compliance?',\n",
       "  'summary',\n",
       "  'Risk Management and Regulatory Compliance',\n",
       "  'Professional stock market analyst',\n",
       "  'Whenever possible, abbreviate common words as if you were writing a text message.'),\n",
       " (\"How does IBM's risk management strategy impact financial performance?\",\n",
       "  'summary',\n",
       "  'Risk Management and Regulatory Compliance',\n",
       "  'Professional stock market analyst',\n",
       "  'Keep the question to 10 words or less.'),\n",
       " (\"How does IBM's risk management strategy address potential regulatory changes in 2024?\",\n",
       "  'reasoning',\n",
       "  'Risk Management and Regulatory Compliance',\n",
       "  'Professional stock market analyst',\n",
       "  'Keep the question to 15 words or less.'),\n",
       " (\"What impact might IBM's approach to risk management and regulatory compliance have on its financial performance in 2024?\",\n",
       "  'reasoning',\n",
       "  'Risk Management and Regulatory Compliance',\n",
       "  'Professional stock market analyst',\n",
       "  ''),\n",
       " ('What was the total dividend payout by IBM in 2024?',\n",
       "  'fact',\n",
       "  'Shareholder Returns and Dividend Policies',\n",
       "  'Professional stock market analyst',\n",
       "  'Keep the question concise and specific.'),\n",
       " (\"What was IBM's dividend yeild for 2024?\",\n",
       "  'fact',\n",
       "  'Shareholder Returns and Dividend Policies',\n",
       "  'Professional stock market analyst',\n",
       "  'Make at least one spelling mistake.'),\n",
       " (\"What r the key factors influencing IBM's shareholder returns and dividend policies in 2024?\",\n",
       "  'summary',\n",
       "  'Shareholder Returns and Dividend Policies',\n",
       "  'Professional stock market analyst',\n",
       "  'Whenever possible, abbreviate common words as if you were writing a text message.'),\n",
       " (\"How did IBM's 2024 dividends compare to previous years?\",\n",
       "  'summary',\n",
       "  'Shareholder Returns and Dividend Policies',\n",
       "  'Professional stock market analyst',\n",
       "  'Keep the question to 10 words or less.'),\n",
       " (\"How has IBM's dividend policy impacted shareholder returns over the past year?\",\n",
       "  'reasoning',\n",
       "  'Shareholder Returns and Dividend Policies',\n",
       "  'Professional stock market analyst',\n",
       "  'Keep the question to 15 words or less.'),\n",
       " (\"What are the potential implications of IBM's current dividend policy on its future stock price and shareholder value?\",\n",
       "  'reasoning',\n",
       "  'Shareholder Returns and Dividend Policies',\n",
       "  'Professional stock market analyst',\n",
       "  ''),\n",
       " ('What major acquisitions did IBM complete in 2024?',\n",
       "  'fact',\n",
       "  'Mergers, Acquisitions, and Partnerships',\n",
       "  'Professional stock market analyst',\n",
       "  'Keep the question concise and specific.'),\n",
       " ('What new partnerships did IBM form in 2024?',\n",
       "  'fact',\n",
       "  'Mergers, Acquisitions, and Partnerships',\n",
       "  'Professional stock market analyst',\n",
       "  'Make at least one spelling mistake.'),\n",
       " ('What r the key mergers, acquisitions, and partnerships IBM pursued in 2024, and how might they impact their market position?',\n",
       "  'summary',\n",
       "  'Mergers, Acquisitions, and Partnerships',\n",
       "  'Professional stock market analyst',\n",
       "  'Whenever possible, abbreviate common words as if you were writing a text message.'),\n",
       " (\"How did IBM's 2024 partnerships affect its financial performance?\",\n",
       "  'summary',\n",
       "  'Mergers, Acquisitions, and Partnerships',\n",
       "  'Professional stock market analyst',\n",
       "  'Keep the question to 10 words or less.'),\n",
       " (\"How might IBM's recent acquisitions impact its market position and financial performance?\",\n",
       "  'reasoning',\n",
       "  'Mergers, Acquisitions, and Partnerships',\n",
       "  'Professional stock market analyst',\n",
       "  'Keep the question to 15 words or less.'),\n",
       " (\"What strategic advantages or challenges could arise from IBM's recent partnerships, and how might these influence the company's competitive landscape in the technology sector?\",\n",
       "  'reasoning',\n",
       "  'Mergers, Acquisitions, and Partnerships',\n",
       "  'Professional stock market analyst',\n",
       "  ''),\n",
       " (\"What was IBM's total revenue for the year 2024?\",\n",
       "  'fact',\n",
       "  'Financial Performance and Revenue Growth',\n",
       "  'Manager at a company that is considering buying an IBM product',\n",
       "  'Keep the question concise and specific.'),\n",
       " (\"What are the key factors that contributed to IBM's financial performance and revenue growth in 2024, and how might these impact their product offerings?\",\n",
       "  'summary',\n",
       "  'Financial Performance and Revenue Growth',\n",
       "  'Manager at a company that is considering buying an IBM product',\n",
       "  'Make at least one spelling mistake.'),\n",
       " (\"How has IBM's revenue growth in 2024 compared to previous years, and what factors contributed to any changes?\",\n",
       "  'reasoning',\n",
       "  'Financial Performance and Revenue Growth',\n",
       "  'Manager at a company that is considering buying an IBM product',\n",
       "  'Whenever possible, abbreviate common words as if you were writing a text message.'),\n",
       " ('What new products did IBM introduce in 2024?',\n",
       "  'fact',\n",
       "  'Product Innovations and New Offerings',\n",
       "  'Manager at a company that is considering buying an IBM product',\n",
       "  'Keep the question to 10 words or less.'),\n",
       " ('What are the key product innovations IBM introduced in 2024?',\n",
       "  'summary',\n",
       "  'Product Innovations and New Offerings',\n",
       "  'Manager at a company that is considering buying an IBM product',\n",
       "  'Keep the question to 15 words or less.'),\n",
       " (\"How do IBM's recent product innovations and new offerings align with emerging industry trends, and what potential benefits could they provide to a company like ours?\",\n",
       "  'reasoning',\n",
       "  'Product Innovations and New Offerings',\n",
       "  'Manager at a company that is considering buying an IBM product',\n",
       "  ''),\n",
       " (\"What is IBM's market share in the cloud computing sector according to the 2024 report?\",\n",
       "  'fact',\n",
       "  'Market Trends and Competitive Positioning',\n",
       "  'Manager at a company that is considering buying an IBM product',\n",
       "  'Keep the question concise and specific.'),\n",
       " (\"What are the key market trends highlighted in IBM's 2024 Annual Report, and how do they position themselves against their competitors?\",\n",
       "  'summary',\n",
       "  'Market Trends and Competitive Positioning',\n",
       "  'Manager at a company that is considering buying an IBM product',\n",
       "  'Make at least one spelling mistake.'),\n",
       " (\"How does IBM's competitive positioning in 2024 impact its ability to innovate and deliver value to customers like us?\",\n",
       "  'reasoning',\n",
       "  'Market Trends and Competitive Positioning',\n",
       "  'Manager at a company that is considering buying an IBM product',\n",
       "  'Whenever possible, abbreviate common words as if you were writing a text message.'),\n",
       " (\"What is IBM's 2024 carbon emissions reduction target?\",\n",
       "  'fact',\n",
       "  'Sustainability and Corporate Responsibility Initiatives',\n",
       "  'Manager at a company that is considering buying an IBM product',\n",
       "  'Keep the question to 10 words or less.'),\n",
       " (\"What are IBM's key sustainability initiatives and their impact on corporate responsibility in 2024?\",\n",
       "  'summary',\n",
       "  'Sustainability and Corporate Responsibility Initiatives',\n",
       "  'Manager at a company that is considering buying an IBM product',\n",
       "  'Keep the question to 15 words or less.'),\n",
       " (\"How do IBM's sustainability and corporate responsibility initiatives align with their product offerings, and what impact might this have on the long-term value of their products for potential buyers?\",\n",
       "  'reasoning',\n",
       "  'Sustainability and Corporate Responsibility Initiatives',\n",
       "  'Manager at a company that is considering buying an IBM product',\n",
       "  ''),\n",
       " (\"Who are IBM's key strategic partners mentioned in the 2024 Annual Report?\",\n",
       "  'fact',\n",
       "  'Strategic Partnerships and Collaborations',\n",
       "  'Manager at a company that is considering buying an IBM product',\n",
       "  'Keep the question concise and specific.'),\n",
       " (\"What are the key strategic partnerships and collaborations highlighted in IBM's 2024 Annual Report, and how might they impact potential product offerings?\",\n",
       "  'summary',\n",
       "  'Strategic Partnerships and Collaborations',\n",
       "  'Manager at a company that is considering buying an IBM product',\n",
       "  'Make at least one spelling mistake.'),\n",
       " (\"How do IBM's strategic partnerships in 2024 align with their product offerings, and what benefits could these bring to potential customers like us?\",\n",
       "  'reasoning',\n",
       "  'Strategic Partnerships and Collaborations',\n",
       "  'Manager at a company that is considering buying an IBM product',\n",
       "  'Whenever possible, abbreviate common words as if you were writing a text message.'),\n",
       " (\"What was IBM's total revenue in 2024?\",\n",
       "  'fact',\n",
       "  \"Overview of IBM's Financial Performance\",\n",
       "  'High school student taking a business course',\n",
       "  'Keep the question to 10 words or less.'),\n",
       " (\"What were IBM's key financial achievements and challenges in 2024?\",\n",
       "  'summary',\n",
       "  \"Overview of IBM's Financial Performance\",\n",
       "  'High school student taking a business course',\n",
       "  'Keep the question to 15 words or less.'),\n",
       " (\"How did IBM's financial performance in 2024 compare to the previous year, and what might this indicate about the company's future growth?\",\n",
       "  'reasoning',\n",
       "  \"Overview of IBM's Financial Performance\",\n",
       "  'High school student taking a business course',\n",
       "  ''),\n",
       " ('What is one major technological development IBM introduced in 2024?',\n",
       "  'fact',\n",
       "  'Key Innovations and Technological Developments',\n",
       "  'High school student taking a business course',\n",
       "  'Keep the question concise and specific.'),\n",
       " ('What are the major technological advancements IBM introduced in 2024, and how might they impact the business world?',\n",
       "  'summary',\n",
       "  'Key Innovations and Technological Developments',\n",
       "  'High school student taking a business course',\n",
       "  'Make at least one spelling mistake.'),\n",
       " (\"How do IBM's new tech developments in 2024 impact their competitive position in the market?\",\n",
       "  'reasoning',\n",
       "  'Key Innovations and Technological Developments',\n",
       "  'High school student taking a business course',\n",
       "  'Whenever possible, abbreviate common words as if you were writing a text message.'),\n",
       " (\"What is IBM's main CSR initiative in 2024?\",\n",
       "  'fact',\n",
       "  'Corporate Social Responsibility Initiatives',\n",
       "  'High school student taking a business course',\n",
       "  'Keep the question to 10 words or less.'),\n",
       " (\"What are IBM's key corporate social responsibility initiatives highlighted in the 2024 report?\",\n",
       "  'summary',\n",
       "  'Corporate Social Responsibility Initiatives',\n",
       "  'High school student taking a business course',\n",
       "  'Keep the question to 15 words or less.'),\n",
       " (\"How do IBM's corporate social responsibility initiatives in 2024 align with their overall business strategy and goals?\",\n",
       "  'reasoning',\n",
       "  'Corporate Social Responsibility Initiatives',\n",
       "  'High school student taking a business course',\n",
       "  ''),\n",
       " ('What market trends did IBM identify in their 2024 annual report?',\n",
       "  'fact',\n",
       "  'Analysis of Market Trends and Competitive Position',\n",
       "  'High school student taking a business course',\n",
       "  'Keep the question concise and specific.'),\n",
       " ('What are the key market trends and competitive challenges IBM faced in 2024, and how did they respond to these issues?',\n",
       "  'summary',\n",
       "  'Analysis of Market Trends and Competitive Position',\n",
       "  'High school student taking a business course',\n",
       "  'Make at least one spelling mistake.'),\n",
       " (\"How does IBM's competitive position in 2024 compare to its main rivals, and what market trends might impact its future growth?\",\n",
       "  'reasoning',\n",
       "  'Analysis of Market Trends and Competitive Position',\n",
       "  'High school student taking a business course',\n",
       "  'Whenever possible, abbreviate common words as if you were writing a text message.'),\n",
       " (\"What is IBM's main goal for 2024?\",\n",
       "  'fact',\n",
       "  'Future Business Strategies and Goals',\n",
       "  'High school student taking a business course',\n",
       "  'Keep the question to 10 words or less.'),\n",
       " (\"What are IBM's future business strategies and goals for the next five years?\",\n",
       "  'summary',\n",
       "  'Future Business Strategies and Goals',\n",
       "  'High school student taking a business course',\n",
       "  'Keep the question to 15 words or less.'),\n",
       " (\"How might IBM's future business strategies and goals impact its position in the technology industry over the next few years?\",\n",
       "  'reasoning',\n",
       "  'Future Business Strategies and Goals',\n",
       "  'High school student taking a business course',\n",
       "  '')]"
      ]
     },
     "execution_count": 30,
     "metadata": {},
     "output_type": "execute_result"
    }
   ],
   "source": [
    "all_questions_with_prompts_and_topics_and_profiles"
   ]
  },
  {
   "cell_type": "code",
   "execution_count": 31,
   "metadata": {},
   "outputs": [],
   "source": [
    "evaluation_utilities.write_json(\n",
    "    all_questions_with_prompts_and_topics_and_profiles,\n",
    "    f\"all_questions_with_prompts_and_topics_and_profiles-{EXPERIMENT_SHORT_LABEL}.json\",\n",
    ")"
   ]
  },
  {
   "cell_type": "code",
   "execution_count": 32,
   "metadata": {},
   "outputs": [
    {
     "name": "stdout",
     "output_type": "stream",
     "text": [
      "78\n"
     ]
    },
    {
     "data": {
      "text/plain": [
       "[\"What was IBM's total revenue for the year 2024?\",\n",
       " \"What was IBM's net income for 2024?\",\n",
       " \"What r the key drivers behind IBM's rev growth in 2024?\",\n",
       " \"How did IBM's financial performance compare to previous years?\",\n",
       " \"How did IBM's revenue growth in 2024 compare to industry averages?\"]"
      ]
     },
     "execution_count": 32,
     "metadata": {},
     "output_type": "execute_result"
    }
   ],
   "source": [
    "questions = [t[0] for t in all_questions_with_prompts_and_topics_and_profiles]\n",
    "print(len(questions))\n",
    "questions[0:5]"
   ]
  },
  {
   "cell_type": "code",
   "execution_count": 33,
   "metadata": {},
   "outputs": [],
   "source": [
    "# Assisted by Google Gemini\n",
    "def sort_and_remove_duplicates(question_data):\n",
    "    # First, sort the list to ensure consistent results\n",
    "    question_data.sort(key=lambda x: x[0])\n",
    "\n",
    "    # Use a dictionary to remove duplicates while keeping the full tuple\n",
    "    unique_data_dict = {item[0]: item for item in question_data}\n",
    "    return list(unique_data_dict.values())"
   ]
  },
  {
   "cell_type": "code",
   "execution_count": 34,
   "metadata": {},
   "outputs": [],
   "source": [
    "sorted_unique_questions_with_prompts_and_topics_and_profiles = (\n",
    "    sort_and_remove_duplicates(all_questions_with_prompts_and_topics_and_profiles)\n",
    ")"
   ]
  },
  {
   "cell_type": "code",
   "execution_count": 35,
   "metadata": {},
   "outputs": [
    {
     "data": {
      "text/plain": [
       "77"
      ]
     },
     "execution_count": 35,
     "metadata": {},
     "output_type": "execute_result"
    }
   ],
   "source": [
    "len(sorted_unique_questions_with_prompts_and_topics_and_profiles)"
   ]
  },
  {
   "cell_type": "code",
   "execution_count": 36,
   "metadata": {},
   "outputs": [
    {
     "data": {
      "text/plain": [
       "[(\"How did IBM's 2024 dividends compare to previous years?\",\n",
       "  'summary',\n",
       "  'Shareholder Returns and Dividend Policies',\n",
       "  'Professional stock market analyst',\n",
       "  'Keep the question to 10 words or less.'),\n",
       " (\"How did IBM's 2024 partnerships affect its financial performance?\",\n",
       "  'summary',\n",
       "  'Mergers, Acquisitions, and Partnerships',\n",
       "  'Professional stock market analyst',\n",
       "  'Keep the question to 10 words or less.'),\n",
       " (\"How did IBM's R&D spending change compared to previous years?\",\n",
       "  'summary',\n",
       "  'Technological Innovations and R&D Investments',\n",
       "  'Professional stock market analyst',\n",
       "  'Keep the question to 10 words or less.')]"
      ]
     },
     "execution_count": 36,
     "metadata": {},
     "output_type": "execute_result"
    }
   ],
   "source": [
    "sorted_unique_questions_with_prompts_and_topics_and_profiles[0:3]"
   ]
  },
  {
   "cell_type": "code",
   "execution_count": 37,
   "metadata": {},
   "outputs": [],
   "source": [
    "question_data = [\n",
    "    {\n",
    "        \"user_input\": q[0],\n",
    "        \"user_input_type\": q[1],\n",
    "        \"user_input_topic\": q[2],\n",
    "        \"user_profile\": q[3],\n",
    "        \"additional_instructions\": q[4],\n",
    "    }\n",
    "    for q in sorted_unique_questions_with_prompts_and_topics_and_profiles\n",
    "]"
   ]
  },
  {
   "cell_type": "code",
   "execution_count": 38,
   "metadata": {},
   "outputs": [
    {
     "data": {
      "text/plain": [
       "'./questions-ibm-2024b-78-77.json'"
      ]
     },
     "execution_count": 38,
     "metadata": {},
     "output_type": "execute_result"
    }
   ],
   "source": [
    "question_file_name = f\"./questions-{EXPERIMENT_SHORT_LABEL}-{len(sorted_unique_questions_with_prompts_and_topics_and_profiles)}.json\"\n",
    "evaluation_utilities.write_json(question_data, question_file_name)\n",
    "question_file_name"
   ]
  },
  {
   "cell_type": "markdown",
   "metadata": {},
   "source": [
    "## Make the vector database\n",
    "\n",
    "This next block lists all the files in the specified directory and then ingests them all into a vector database.\n",
    "\n",
    "It is using the Llama Index DoclingReader, which is a simple and naive way to use Docling.  It converts everything to mark down and then use built-in primitives in Llama Index to do the chunking.\n",
    "\n",
    "You can see a much more sophisticated use of Docling at IBM's [Granite_Multimodal_RAG.ipynb](https://github.com/ibm-granite-community/granite-snack-cookbook/blob/main/recipes/RAG/Granite_Multimodal_RAG.ipynb)\n",
    "where they use the Docling hierarchical chunker and then skip over chunks with tables in them, and then iterate through the tables separately and convert the tables to\n",
    "markdown one at a time.  That example also uses a model to generate descriptions of pictures and then include those descriptions in the index too.  At some point, we'd like\n",
    "to do some all of that here and get a better foundation for building the vector index that we would use for both generating the reference answers in this notebook and\n",
    "for doing the actual rag evaluations in [evaluate-using-sample-questions.ipynb](./evaluate-using-sample-questions.ipynb)."
   ]
  },
  {
   "cell_type": "code",
   "execution_count": 39,
   "metadata": {},
   "outputs": [],
   "source": [
    "# Reload the data from disk.  This is here to let you restart the notebook from this point.\n",
    "question_data = evaluation_utilities.read_json(question_file_name)"
   ]
  },
  {
   "cell_type": "code",
   "execution_count": 40,
   "metadata": {},
   "outputs": [
    {
     "data": {
      "text/plain": [
       "[{'user_input': \"How did IBM's 2024 dividends compare to previous years?\",\n",
       "  'user_input_type': 'summary',\n",
       "  'user_input_topic': 'Shareholder Returns and Dividend Policies',\n",
       "  'user_profile': 'Professional stock market analyst',\n",
       "  'additional_instructions': 'Keep the question to 10 words or less.'},\n",
       " {'user_input': \"How did IBM's 2024 partnerships affect its financial performance?\",\n",
       "  'user_input_type': 'summary',\n",
       "  'user_input_topic': 'Mergers, Acquisitions, and Partnerships',\n",
       "  'user_profile': 'Professional stock market analyst',\n",
       "  'additional_instructions': 'Keep the question to 10 words or less.'},\n",
       " {'user_input': \"How did IBM's R&D spending change compared to previous years?\",\n",
       "  'user_input_type': 'summary',\n",
       "  'user_input_topic': 'Technological Innovations and R&D Investments',\n",
       "  'user_profile': 'Professional stock market analyst',\n",
       "  'additional_instructions': 'Keep the question to 10 words or less.'},\n",
       " {'user_input': \"How did IBM's financial performance compare to previous years?\",\n",
       "  'user_input_type': 'summary',\n",
       "  'user_input_topic': 'Financial Performance and Revenue Growth',\n",
       "  'user_profile': 'Professional stock market analyst',\n",
       "  'additional_instructions': 'Keep the question to 10 words or less.'},\n",
       " {'user_input': \"How did IBM's financial performance in 2024 compare to the previous year, and what might this indicate about the company's future growth?\",\n",
       "  'user_input_type': 'reasoning',\n",
       "  'user_input_topic': \"Overview of IBM's Financial Performance\",\n",
       "  'user_profile': 'High school student taking a business course',\n",
       "  'additional_instructions': ''},\n",
       " {'user_input': \"How did IBM's revenue growth in 2024 compare to industry averages?\",\n",
       "  'user_input_type': 'reasoning',\n",
       "  'user_input_topic': 'Financial Performance and Revenue Growth',\n",
       "  'user_profile': 'Professional stock market analyst',\n",
       "  'additional_instructions': 'Keep the question to 15 words or less.'}]"
      ]
     },
     "execution_count": 40,
     "metadata": {},
     "output_type": "execute_result"
    }
   ],
   "source": [
    "question_data[0:6]"
   ]
  },
  {
   "cell_type": "code",
   "execution_count": 41,
   "metadata": {},
   "outputs": [
    {
     "data": {
      "text/plain": [
       "[PosixPath('docs/ibm-annual-report-2024.pdf')]"
      ]
     },
     "execution_count": 41,
     "metadata": {},
     "output_type": "execute_result"
    }
   ],
   "source": [
    "file_paths = evaluation_utilities.list_files(CONTENT_LOCATION)\n",
    "file_paths"
   ]
  },
  {
   "cell_type": "code",
   "execution_count": 42,
   "metadata": {},
   "outputs": [
    {
     "data": {
      "text/plain": [
       "<llama_index.core.indices.vector_store.base.VectorStoreIndex at 0x4be84b890>"
      ]
     },
     "execution_count": 42,
     "metadata": {},
     "output_type": "execute_result"
    }
   ],
   "source": [
    "index = evaluation_utilities.make_simple_index(file_paths, EMBED_MODEL)\n",
    "index"
   ]
  },
  {
   "cell_type": "code",
   "execution_count": 43,
   "metadata": {},
   "outputs": [
    {
     "data": {
      "text/plain": [
       "[\"## 14 Management Discussion\\n\\nInternational Business Machines Corporation and Subsidiary Companies\\n\\nIBM Z: the premier transaction processing platform with leading security, resilience and scale, highly optimized for mission-critical, high-volume transaction workloads and enabled for enterprise AI and hybrid cloud. It includes IBM Z and LinuxONE, with a range of high-performance systems designed to address enterprise computing capacity, security and performance needs, z/OS, a securityrich, high-performance enterprise operating system, as well as Linux and other operating systems.\\n\\nDistributed  Infrastructure: includes  Power,  Storage  and  IBM  Cloud  Infrastructure-as-a-Service  (IaaS).  Power  consists  of  highperformance servers, designed and engineered for data intensive and AI-enabled workloads and optimized for hybrid cloud and Linux. The Storage portfolio consists of a broad range of storage hardware and software-defined offerings, including Z-attach and distributed flash, tape solutions, software-defined storage controllers, data protection software and network-attach storage. IBM Cloud IaaS is built on enterprise-grade hardware with leading security and compliance capabilities and offers flexible computing options across architectures to meet client workload needs.\\n\\nInfrastructure  Support:  delivers  comprehensive, proactive  and  AI-enabled  maintenance  and  support  services  to  maintain  and improve the availability and value of clients' IT infrastructure (hardware and software) both on-premises and in the cloud including maintenance for IBM products and other technology products.\",\n",
       " \"## Hardware\\n\\nThe company's hardware offerings include the sale or lease of Hybrid Infrastructure solutions including IBM Z as well as Distributed Infrastructure solutions such as Power and Storage solutions. The capabilities of these products can also be delivered through as-aService  or  cloud  delivery  models,  such  as  Infrastructure-as-a-Service  and  Storage-as-a-Service.  The  company  also  offers installation services for its more complex hardware products. Hardware offerings are often sold with distinct maintenance services, described in the Services section above.\\n\\nRevenue from hardware sales is recognized when control has transferred to the customer which typically occurs when the hardware has been shipped to the client, risk of loss has transferred to the client and the company has a present right to payment for the hardware. In limited circumstances when a hardware sale includes client acceptance provisions, revenue is recognized either when client  acceptance has been obtained, client acceptance provisions have lapsed, or the company has objective evidence that the criteria specified in the client acceptance provisions have been satisfied. Revenue from hardware sales-type leases is recognized at the beginning of the lease term. Revenue from rentals and operating leases is recognized on a straight-line basis over the term of the rental or lease.\\n\\nRevenue  from  as-a-Service  arrangements  is  recognized  either  on  a  straight-line  basis  or  on  a  usage  basis  as  described  in  the Services section above. Installation services are accounted for as distinct performance obligations with revenue recognized as the services are performed. Shipping and handling activities that occur after the client has obtained control of a product are accounted for  as  an  activity  to  fulfill  the  promise  to  transfer  the  product  rather  than  as  an  additional  promised  service  and,  therefore,  no revenue is deferred and recognized over the shipping period.\"]"
      ]
     },
     "execution_count": 43,
     "metadata": {},
     "output_type": "execute_result"
    }
   ],
   "source": [
    "q = \"Tell me about Z mainframe sales\"\n",
    "result = index.as_query_engine(llm=question_generator_model).query(q)\n",
    "# print(f\"Q: {q}\\nA: {result.response.strip()}\\n\\nSources:\")\n",
    "# display([(n.text, n.metadata) for n in result.source_nodes])\n",
    "\n",
    "[n.text for n in result.source_nodes]"
   ]
  },
  {
   "cell_type": "markdown",
   "metadata": {},
   "source": [
    "## Use RAG to generate reference answers\n",
    "\n",
    "\n",
    "Here we use RAG on all of the questions and get answers from the RAG.  We will label these \"reference answers\" because they're being generated by the model that we have designated to be our reference answer generator, i.e., the model that we trust to be close enough to perfect that it can act as our \"ground truth\" for evaluating the other models that we intend to evaluate.  We just discard the retrieve context instead of creating them as reference contexts because there's no particular reason to believe that they're particularly good.  If we had an ultra-high power search capability (e.g., something that retrieved a long list of results and then had a powerful model rate each result), we would want to use it here to get reference contexts and then use those reference context to generate the answer instead of the actual retrieve contexts.\n",
    "\n",
    "Note that we are calling \"run_reference_rag\", our reference answer generator RAG.  That RAG is very slow because it uses LlamaIndex's LLMReranker to assess search result quality before then taking the search results rated highest by the LLM and using them to generate the answer (and recording them as the reference contexts).  It is often impractical to do this in a deployed application because it is slow, but it can be useful for evaluation purposes because we expect it to generate something that is closer to a \"ground truth\" for evaluation then what we would get with a simpler/faster RAG."
   ]
  },
  {
   "cell_type": "code",
   "execution_count": 44,
   "metadata": {},
   "outputs": [
    {
     "data": {
      "text/plain": [
       "[{'user_input': 'Tell me about Z mainframe sales',\n",
       "  'reference': \"In 2023, IBM Z mainframe sales experienced a decrease in revenue by 4.5 percent as reported (4.2 percent adjusted for currency) compared to the previous year. This decline was consistent with the z16 cycle, which was introduced in the second quarter of 2022. Despite the decrease, the z16 program significantly outperformed prior cycles, including the successful z15 program. The z16 mainframe incorporates key innovations such as cloud-native development for hybrid cloud, embedded AI at scale, quantum-safe cyber-resilient security, energy efficiency, and strong reliability and scalability. Clients increasingly leveraged IBM Z for more workloads, driving demand for more capacity, and installed MIPS have doubled during the last two IBM Z product cycles. IBM Z remains an enduring platform, driving hardware adoption as well as related software, storage, and services.\\n\\nIn 2024, IBM z16 was highlighted as the most successful mainframe program in IBM's history, underscoring its enduring value to clients. The infrastructure revenue, which includes IBM Z, declined by 3% at constant currency, aligning with product cycle expectations.\",\n",
       "  'reference_contexts': ['## Infrastructure\\n\\n($ in millions)\\n\\n| For the year ended December 31:   | 2023     | 2022     | Yr.-to-Yr. Percent Change   | Yr.-to-Yr. Percent Change Adjusted for Currency   |\\n|-----------------------------------|----------|----------|-----------------------------|---------------------------------------------------|\\n| Infrastructure revenue            | $ 14,593 | $ 15,288 | (4.5)%                      | (3.9)%                                            |\\n| Hybrid Infrastructure             | $ 9,215  | $ 9,451  | (2.5)%                      | (2.2)%                                            |\\n| IBM Z                             |          |          | (4.5)                       | (4.2)                                             |\\n| Distributed Infrastructure        |          |          | (1.0)                       | (0.7)                                             |\\n| Infrastructure Support            | 5,377    | 5,837    | (7.9)                       | (6.6)                                             |\\n\\nInfrastructure  revenue  of  $14,593  million  decreased  4.5  percent  as  reported  (3.9  percent  adjusted  for  currency)  in  2023  as compared  to  the  prior  year,  reflecting  product  cycle  dynamics  which  impacted  both  Hybrid  Infrastructure  and  Infrastructure Support.\\n\\nHybrid Infrastructure revenue of $9,215 million decreased 2.5 percent as reported (2.2 percent adjusted for currency) in 2023 as compared to the prior year. Within Hybrid Infrastructure, IBM Z revenue decreased 4.5 percent as reported (4.2 percent adjusted for currency) on a year-to-year basis, consistent with the z16 cycle, as it was introduced in the second quarter of 2022. Overall, across the program cycle, z16 revenue performance at year-end 2023 had significantly outperformed prior cycles, including the successful  z15  program.  The  z16  program  incorporates  a  number  of  key  innovations  for  our  clients  including  cloud-native development for hybrid cloud, embedded AI at scale, quantum safe cyber-resilient security, energy efficiency and strong reliability and scalability. Clients increasingly leveraged IBM Z for more workloads which drove demand for more capacity. Installed MIPS have doubled during the last two IBM Z product cycles. IBM Z remains an enduring platform, driving hardware adoption as well as related software, storage and services. Distributed Infrastructure revenue decreased 1.0 percent as reported (0.7 percent adjusted for currency). We had year-to-year declines in high-end Power and cloud platform revenue; partially offset by strong growth in highend Storage and low- to mid-range Power.\\n\\nInfrastructure  Support  revenue  of  $5,377  million  decreased  7.9  percent  as  reported  (6.6  percent  adjusted  for  currency),  which reflected reduced demand for support services as a result of product cycle dynamics.',\n",
       "   \"## 2024\\xa0Performance\\n\\nFor\\xa0the\\xa0year,\\xa0IBM\\xa0generated\\xa0$62.8\\xa0billion\\xa0in\\xa0revenue,\\xa0up\\xa03% at\\xa0constant\\xa0currency,\\xa0and\\xa0$12.7\\xa0billion\\xa0in\\xa0free\\xa0cash\\xa0flow\\xa0-\\xa0an increase of $1.5 billion year-over-year. Our generative AI book\\xa0of\\xa0business\\xa0now\\xa0stands\\xa0at\\xa0more\\xa0than\\xa0$5\\xa0billion\\xa0since inception.\\xa0This\\xa0revenue\\xa0growth\\xa0and\\xa0cash\\xa0generation\\xa0enabled us to make significant investments in the business and deliver value\\xa0to\\xa0our\\xa0shareholders.\\xa0In\\xa02024,\\xa0we\\xa0allocated\\xa0more\\xa0than\\xa0$7 billion\\xa0to\\xa0research\\xa0and\\xa0development,\\xa0closed\\xa011\\xa0acquisitions to\\xa0enhance\\xa0our\\xa0capabilities,\\xa0and\\xa0returned\\xa0more\\xa0than\\xa0$6\\xa0billion\\n\\nto\\xa0shareholders\\xa0through\\xa0dividends.\\xa0IBM\\xa0expanded\\xa0operating gross profit margin by 130 basis points in 2024, driven by a focus on high-value offerings and productivity initiatives.\\n\\nSoftware revenue\\xa0grew\\xa09%\\xa0at\\xa0constant\\xa0currency,\\xa0reflecting strong\\xa0demand\\xa0for\\xa0our\\xa0advanced\\xa0capabilities\\xa0in\\xa0hybrid\\xa0cloud, data\\xa0and\\xa0AI,\\xa0automation,\\xa0transaction\\xa0processing,\\xa0and\\xa0security. Red\\xa0Hat\\xa0performed\\xa0well\\xa0as\\xa0clients\\xa0embraced\\xa0its\\xa0open\\xa0hybrid cloud\\xa0platform.\\n\\nConsulting revenue\\xa0increased\\xa01%\\xa0at\\xa0constant\\xa0currency, demonstrating\\xa0our\\xa0clients'\\xa0continued\\xa0need\\xa0for\\xa0expertise\\xa0in\\xa0AI deployment,\\xa0digital\\xa0transformation,\\xa0and\\xa0cloud\\xa0modernization, despite\\xa0a\\xa0dynamic\\xa0market\\xa0environment.\\n\\nIBM\\xa0has\\xa0established\\xa0an\\xa0early\\xa0leadership\\xa0position\\xa0in\\xa0this regard,\\xa0building\\xa0a\\xa0portfolio\\xa0of\\xa0enterprise\\xa0AI\\xa0offerings\\xa0focused on\\xa0generating\\xa0ROI\\xa0through\\xa0productivity\\xa0improvements\\xa0and automation.\\xa0IBM\\xa0watsonx\\xa0provides\\xa0a\\xa0robust\\xa0portfolio\\xa0of AI\\xa0products\\xa0for\\xa0developing\\xa0AI\\xa0apps,\\xa0managing\\xa0data,\\xa0and governing\\xa0the\\xa0entire\\xa0lifecycle\\xa0of\\xa0AI\\xa0models.\\xa0AI\\xa0assistants manage\\xa0key\\xa0tasks,\\xa0including\\xa0customer\\xa0service\\xa0and\\xa0writing code. We are developing pre-built AI agents that deliver multitask reasoning for specific business domains. And our Granite family of fit-for-purpose AI models, when tuned with proprietary data, can deliver enterprise-grade generative AI with up to 90% improved cost efficiency. Granite allows clients to\\xa0bring\\xa0their\\xa0own\\xa0data\\xa0into\\xa0the\\xa0models,\\xa0and\\xa0can\\xa0be\\xa0trained\\xa0on that\\xa0data\\xa0in\\xa0weeks,\\xa0not\\xa0months.\\n\\nInfrastructure revenue\\xa0declined\\xa03%\\xa0at\\xa0constant\\xa0currency,\\xa0in line\\xa0with\\xa0product\\xa0cycle\\xa0expectations.\\xa0IBM\\xa0z16\\xa0is\\xa0now\\xa0the\\xa0most successful\\xa0mainframe\\xa0program\\xa0in\\xa0our\\xa0history,\\xa0highlighting\\xa0its enduring\\xa0value\\xa0to\\xa0clients.\",\n",
       "   \"## 14 Management Discussion\\n\\nInternational Business Machines Corporation and Subsidiary Companies\\n\\nIBM Z: the premier transaction processing platform with leading security, resilience and scale, highly optimized for mission-critical, high-volume transaction workloads and enabled for enterprise AI and hybrid cloud. It includes IBM Z and LinuxONE, with a range of high-performance systems designed to address enterprise computing capacity, security and performance needs, z/OS, a securityrich, high-performance enterprise operating system, as well as Linux and other operating systems.\\n\\nDistributed  Infrastructure: includes  Power,  Storage  and  IBM  Cloud  Infrastructure-as-a-Service  (IaaS).  Power  consists  of  highperformance servers, designed and engineered for data intensive and AI-enabled workloads and optimized for hybrid cloud and Linux. The Storage portfolio consists of a broad range of storage hardware and software-defined offerings, including Z-attach and distributed flash, tape solutions, software-defined storage controllers, data protection software and network-attach storage. IBM Cloud IaaS is built on enterprise-grade hardware with leading security and compliance capabilities and offers flexible computing options across architectures to meet client workload needs.\\n\\nInfrastructure  Support:  delivers  comprehensive, proactive  and  AI-enabled  maintenance  and  support  services  to  maintain  and improve the availability and value of clients' IT infrastructure (hardware and software) both on-premises and in the cloud including maintenance for IBM products and other technology products.\"]},\n",
       " {'user_input': 'Why is the sky blue?',\n",
       "  'reference': '',\n",
       "  'reference_contexts': []}]"
      ]
     },
     "execution_count": 44,
     "metadata": {},
     "output_type": "execute_result"
    }
   ],
   "source": [
    "qna = [\n",
    "    {\"user_input\": \"Tell me about Z mainframe sales\"},\n",
    "    {\"user_input\": \"Why is the sky blue?\"},\n",
    "]\n",
    "sample_data = evaluation_utilities.run_reference_rag(\n",
    "    qna, question_generator_model, index, \"temp.json\", number_of_search_results=5\n",
    ")\n",
    "sample_data"
   ]
  },
  {
   "cell_type": "markdown",
   "metadata": {},
   "source": [
    "Notice above that a question for which that has highly relevant content in the index can get multiple reference_contexts (i.e., search results rated as relevant by the LLMReranker) while a question that does not have relevant content in the index can get no reference context and thus no answer.  We could ask the model to generate a reference answer without any context, but that answer wouldn't be very useful for evaluating RAG applications.  Instead, we want to mark such questions as not having a RAG answer so we can test the ability of candidate solutions to not answer such questions."
   ]
  },
  {
   "cell_type": "code",
   "execution_count": 45,
   "metadata": {},
   "outputs": [
    {
     "data": {
      "text/plain": [
       "'./questions_and_reference_answers-ibm-2024b-78-77.json'"
      ]
     },
     "execution_count": 45,
     "metadata": {},
     "output_type": "execute_result"
    }
   ],
   "source": [
    "output_file = f\"./questions_and_reference_answers-{EXPERIMENT_SHORT_LABEL}-{len(question_data)}.json\"\n",
    "output_file"
   ]
  },
  {
   "cell_type": "code",
   "execution_count": 46,
   "metadata": {},
   "outputs": [
    {
     "data": {
      "text/plain": [
       "[{'user_input': \"How did IBM's 2024 dividends compare to previous years?\",\n",
       "  'user_input_type': 'summary',\n",
       "  'user_input_topic': 'Shareholder Returns and Dividend Policies',\n",
       "  'user_profile': 'Professional stock market analyst',\n",
       "  'additional_instructions': 'Keep the question to 10 words or less.',\n",
       "  'reference': 'In 2024, IBM continued its trend of increasing dividends, marking 29 consecutive years of dividend increases. This indicates that the dividends in 2024 were higher compared to previous years.',\n",
       "  'reference_contexts': [\"## 2024\\xa0Performance\\n\\nFor\\xa0the\\xa0year,\\xa0IBM\\xa0generated\\xa0$62.8\\xa0billion\\xa0in\\xa0revenue,\\xa0up\\xa03% at\\xa0constant\\xa0currency,\\xa0and\\xa0$12.7\\xa0billion\\xa0in\\xa0free\\xa0cash\\xa0flow\\xa0-\\xa0an increase of $1.5 billion year-over-year. Our generative AI book\\xa0of\\xa0business\\xa0now\\xa0stands\\xa0at\\xa0more\\xa0than\\xa0$5\\xa0billion\\xa0since inception.\\xa0This\\xa0revenue\\xa0growth\\xa0and\\xa0cash\\xa0generation\\xa0enabled us to make significant investments in the business and deliver value\\xa0to\\xa0our\\xa0shareholders.\\xa0In\\xa02024,\\xa0we\\xa0allocated\\xa0more\\xa0than\\xa0$7 billion\\xa0to\\xa0research\\xa0and\\xa0development,\\xa0closed\\xa011\\xa0acquisitions to\\xa0enhance\\xa0our\\xa0capabilities,\\xa0and\\xa0returned\\xa0more\\xa0than\\xa0$6\\xa0billion\\n\\nto\\xa0shareholders\\xa0through\\xa0dividends.\\xa0IBM\\xa0expanded\\xa0operating gross profit margin by 130 basis points in 2024, driven by a focus on high-value offerings and productivity initiatives.\\n\\nSoftware revenue\\xa0grew\\xa09%\\xa0at\\xa0constant\\xa0currency,\\xa0reflecting strong\\xa0demand\\xa0for\\xa0our\\xa0advanced\\xa0capabilities\\xa0in\\xa0hybrid\\xa0cloud, data\\xa0and\\xa0AI,\\xa0automation,\\xa0transaction\\xa0processing,\\xa0and\\xa0security. Red\\xa0Hat\\xa0performed\\xa0well\\xa0as\\xa0clients\\xa0embraced\\xa0its\\xa0open\\xa0hybrid cloud\\xa0platform.\\n\\nConsulting revenue\\xa0increased\\xa01%\\xa0at\\xa0constant\\xa0currency, demonstrating\\xa0our\\xa0clients'\\xa0continued\\xa0need\\xa0for\\xa0expertise\\xa0in\\xa0AI deployment,\\xa0digital\\xa0transformation,\\xa0and\\xa0cloud\\xa0modernization, despite\\xa0a\\xa0dynamic\\xa0market\\xa0environment.\\n\\nIBM\\xa0has\\xa0established\\xa0an\\xa0early\\xa0leadership\\xa0position\\xa0in\\xa0this regard,\\xa0building\\xa0a\\xa0portfolio\\xa0of\\xa0enterprise\\xa0AI\\xa0offerings\\xa0focused on\\xa0generating\\xa0ROI\\xa0through\\xa0productivity\\xa0improvements\\xa0and automation.\\xa0IBM\\xa0watsonx\\xa0provides\\xa0a\\xa0robust\\xa0portfolio\\xa0of AI\\xa0products\\xa0for\\xa0developing\\xa0AI\\xa0apps,\\xa0managing\\xa0data,\\xa0and governing\\xa0the\\xa0entire\\xa0lifecycle\\xa0of\\xa0AI\\xa0models.\\xa0AI\\xa0assistants manage\\xa0key\\xa0tasks,\\xa0including\\xa0customer\\xa0service\\xa0and\\xa0writing code. We are developing pre-built AI agents that deliver multitask reasoning for specific business domains. And our Granite family of fit-for-purpose AI models, when tuned with proprietary data, can deliver enterprise-grade generative AI with up to 90% improved cost efficiency. Granite allows clients to\\xa0bring\\xa0their\\xa0own\\xa0data\\xa0into\\xa0the\\xa0models,\\xa0and\\xa0can\\xa0be\\xa0trained\\xa0on that\\xa0data\\xa0in\\xa0weeks,\\xa0not\\xa0months.\\n\\nInfrastructure revenue\\xa0declined\\xa03%\\xa0at\\xa0constant\\xa0currency,\\xa0in line\\xa0with\\xa0product\\xa0cycle\\xa0expectations.\\xa0IBM\\xa0z16\\xa0is\\xa0now\\xa0the\\xa0most successful\\xa0mainframe\\xa0program\\xa0in\\xa0our\\xa0history,\\xa0highlighting\\xa0its enduring\\xa0value\\xa0to\\xa0clients.\",\n",
       "   \"## The\\xa0ROI\\xa0of\\xa0IBM\\n\\nAt\\xa0IBM,\\xa0we\\xa0expect\\xa0all\\xa0investments\\xa0to\\xa0yield\\xa0a\\xa0return.\\xa0That is\\xa0evident\\xa0in\\xa0the\\xa0increasing\\xa0value\\xa0we\\xa0are\\xa0delivering\\xa0for\\xa0our shareholders,\\xa0clients,\\xa0and\\xa0employees.\\n\\nFor\\xa0shareholders,\\xa0we\\xa0have\\xa0delivered\\xa029\\xa0consecutive\\xa0years\\xa0of dividend\\xa0increases.\\xa0And\\xa0from\\xa02022\\xa0through\\xa0the\\xa0end\\xa0of\\xa02024, we\\xa0created\\xa0greater\\xa0than\\xa0$100\\xa0billion\\xa0in\\xa0shareholder\\xa0value\\xa0and outperformed\\xa0the\\xa0S&amp;P\\xa0500\\xa0by\\xa058\\xa0points.\\n\\nFor\\xa0the\\xa0IBMers\\xa0around\\xa0the\\xa0world\\xa0who\\xa0invest\\xa0their\\xa0time\\xa0and talent\\xa0in\\xa0serving\\xa0our\\xa0clients\\xa0and\\xa0partners,\\xa0the\\xa0return\\xa0is\\xa0evident in\\xa0our\\xa0culture.\\xa0The\\xa0vast\\xa0majority\\xa0of\\xa0our\\xa0workforce\\xa0recommend IBM\\xa0as\\xa0a\\xa0great\\xa0place\\xa0to\\xa0work\\xa0and\\xa0say\\xa0they\\xa0are\\xa0proud\\xa0to\\xa0be IBMers.\\xa0That\\xa0culture\\xa0is\\xa0fueled,\\xa0in\\xa0part,\\xa0by\\xa0IBM's\\xa0commitment to\\xa0develop\\xa0the\\xa0skills\\xa0our\\xa0workforce\\xa0requires\\xa0to\\xa0lead\\xa0the\\xa0next eras\\xa0of\\xa0technology.\\n\\nAs\\xa0we\\xa0look\\xa0ahead,\\xa0we\\xa0will\\xa0continue\\xa0to\\xa0drive\\xa0returns\\xa0and\\xa0deliver on\\xa0our\\xa0commitment\\xa0to\\xa0be\\xa0the\\xa0catalyst\\xa0that\\xa0makes\\xa0the\\xa0world work\\xa0better.\\xa0We\\xa0extend\\xa0this\\xa0simple\\xa0invitation\\xa0for\\xa0you\\xa0to\\xa0join\\xa0us on this journey: Let's Create.\"]},\n",
       " {'user_input': \"How did IBM's 2024 partnerships affect its financial performance?\",\n",
       "  'user_input_type': 'summary',\n",
       "  'user_input_topic': 'Mergers, Acquisitions, and Partnerships',\n",
       "  'user_profile': 'Professional stock market analyst',\n",
       "  'additional_instructions': 'Keep the question to 10 words or less.',\n",
       "  'reference': \"The provided context does not explicitly mention specific partnerships or their direct impact on IBM's financial performance in 2024. However, it highlights IBM's strategic focus on technology innovation and consulting expertise, particularly in AI and hybrid cloud, which are likely supported by partnerships. The context emphasizes IBM's investments in these areas, contributing to revenue growth and improved margins. While partnerships are not directly mentioned, the overall strategy and investments in AI and hybrid cloud, which often involve collaborations, have positively impacted IBM's financial performance, as evidenced by increased revenue, expanded profit margins, and significant growth in software and AI-related offerings.\",\n",
       "  'reference_contexts': [\"## 2024\\xa0Performance\\n\\nFor\\xa0the\\xa0year,\\xa0IBM\\xa0generated\\xa0$62.8\\xa0billion\\xa0in\\xa0revenue,\\xa0up\\xa03% at\\xa0constant\\xa0currency,\\xa0and\\xa0$12.7\\xa0billion\\xa0in\\xa0free\\xa0cash\\xa0flow\\xa0-\\xa0an increase of $1.5 billion year-over-year. Our generative AI book\\xa0of\\xa0business\\xa0now\\xa0stands\\xa0at\\xa0more\\xa0than\\xa0$5\\xa0billion\\xa0since inception.\\xa0This\\xa0revenue\\xa0growth\\xa0and\\xa0cash\\xa0generation\\xa0enabled us to make significant investments in the business and deliver value\\xa0to\\xa0our\\xa0shareholders.\\xa0In\\xa02024,\\xa0we\\xa0allocated\\xa0more\\xa0than\\xa0$7 billion\\xa0to\\xa0research\\xa0and\\xa0development,\\xa0closed\\xa011\\xa0acquisitions to\\xa0enhance\\xa0our\\xa0capabilities,\\xa0and\\xa0returned\\xa0more\\xa0than\\xa0$6\\xa0billion\\n\\nto\\xa0shareholders\\xa0through\\xa0dividends.\\xa0IBM\\xa0expanded\\xa0operating gross profit margin by 130 basis points in 2024, driven by a focus on high-value offerings and productivity initiatives.\\n\\nSoftware revenue\\xa0grew\\xa09%\\xa0at\\xa0constant\\xa0currency,\\xa0reflecting strong\\xa0demand\\xa0for\\xa0our\\xa0advanced\\xa0capabilities\\xa0in\\xa0hybrid\\xa0cloud, data\\xa0and\\xa0AI,\\xa0automation,\\xa0transaction\\xa0processing,\\xa0and\\xa0security. Red\\xa0Hat\\xa0performed\\xa0well\\xa0as\\xa0clients\\xa0embraced\\xa0its\\xa0open\\xa0hybrid cloud\\xa0platform.\\n\\nConsulting revenue\\xa0increased\\xa01%\\xa0at\\xa0constant\\xa0currency, demonstrating\\xa0our\\xa0clients'\\xa0continued\\xa0need\\xa0for\\xa0expertise\\xa0in\\xa0AI deployment,\\xa0digital\\xa0transformation,\\xa0and\\xa0cloud\\xa0modernization, despite\\xa0a\\xa0dynamic\\xa0market\\xa0environment.\\n\\nIBM\\xa0has\\xa0established\\xa0an\\xa0early\\xa0leadership\\xa0position\\xa0in\\xa0this regard,\\xa0building\\xa0a\\xa0portfolio\\xa0of\\xa0enterprise\\xa0AI\\xa0offerings\\xa0focused on\\xa0generating\\xa0ROI\\xa0through\\xa0productivity\\xa0improvements\\xa0and automation.\\xa0IBM\\xa0watsonx\\xa0provides\\xa0a\\xa0robust\\xa0portfolio\\xa0of AI\\xa0products\\xa0for\\xa0developing\\xa0AI\\xa0apps,\\xa0managing\\xa0data,\\xa0and governing\\xa0the\\xa0entire\\xa0lifecycle\\xa0of\\xa0AI\\xa0models.\\xa0AI\\xa0assistants manage\\xa0key\\xa0tasks,\\xa0including\\xa0customer\\xa0service\\xa0and\\xa0writing code. We are developing pre-built AI agents that deliver multitask reasoning for specific business domains. And our Granite family of fit-for-purpose AI models, when tuned with proprietary data, can deliver enterprise-grade generative AI with up to 90% improved cost efficiency. Granite allows clients to\\xa0bring\\xa0their\\xa0own\\xa0data\\xa0into\\xa0the\\xa0models,\\xa0and\\xa0can\\xa0be\\xa0trained\\xa0on that\\xa0data\\xa0in\\xa0weeks,\\xa0not\\xa0months.\\n\\nInfrastructure revenue\\xa0declined\\xa03%\\xa0at\\xa0constant\\xa0currency,\\xa0in line\\xa0with\\xa0product\\xa0cycle\\xa0expectations.\\xa0IBM\\xa0z16\\xa0is\\xa0now\\xa0the\\xa0most successful\\xa0mainframe\\xa0program\\xa0in\\xa0our\\xa0history,\\xa0highlighting\\xa0its enduring\\xa0value\\xa0to\\xa0clients.\",\n",
       "   \"## Management Discussion\\n\\nInternational Business Machines Corporation and Subsidiary Companies\\n\\nSoftware revenue of $27,085 million increased 8.3 percent as reported (9.0 percent adjusted for currency) in 2024 compared to the prior year, reflecting growth across all lines of business with double-digit growth in Red Hat and Automation and high single-digit growth  in  Transaction  Processing.  This  revenue  performance  reflects  the  investments  we  have  been  making  in  Software,  both organically and through acquisitions. Our investments in generative AI are contributing to growth, as we had strong demand for our generative AI products such as watsonx, Concert and our AI assistants. We also launched new products in the fourth quarter of 2024  including  our  next  generation  of  watsonx  Code  Assistant  and  Guardium  Quantum  Safe.  In  2024,  we  also  had  increased revenue contribution from acquisitions compared to the prior year, including Apptio and StreamSets and webMethods. In addition, we  had  solid  growth  in  our  recurring  revenue  and  double-digit  growth  in  our  transactional  software  revenue  in  2024,  as  we accelerated growth through innovation across our Software portfolio.\\n\\nHybrid Platform &amp; Solutions revenue of $18,808 million increased 8.1 percent as reported (8.7 percent adjusted for currency) in 2024 compared to the prior year. Within Hybrid Platform &amp; Solutions, Red Hat revenue increased 11.4 percent as reported (12.0 percent  adjusted  for  currency),  which  reflects  the  continued  demand  for  our  hybrid  cloud  solutions  as  clients  are  prioritizing application modernization on OpenShift containers and Ansible automation to optimize their IT spending and reduce operational complexity. In 2024, we had double-digit revenue growth in OpenShift and Ansible, and high single-digit revenue growth in RHEL. The  growth  in  OpenShift  revenue  reflects  increased  volume  in  OpenShift  Virtualization  engagements,  and  we  exited  2024  with OpenShift annual recurring revenue of $1.4 billion. Automation revenue increased 14.2 percent as reported (14.8 percent adjusted for  currency),  driven  by  our  SaaS  subscription  offerings  such  as  AIOps  and  Management,  which  includes  the  higher  revenue contribution  from Apptio.  Data  &amp;  AI  revenue  increased  1.6  percent  as  reported  (2.2  percent  adjusted  for  currency),  with  strong growth in  Data  Fabric  and  our  AI  assistant  for  Customer  Care,  driven  by  client  demand  for  our  watsonx  platform  offerings,  and strength  in  asset  and  supply  chain  management  software  which  helps  clients  run  sustainable  operations.  Security  revenue increased 0.8 percent as reported (1.5 percent adjusted for currency), with revenue growth in data security and identity and access management, partially offset by a revenue decline in security threat management.\\n\\nAcross Hybrid Platform &amp; Solutions, our annual recurring revenue (ARR) was $15.3 billion exiting 2024, growing at a double-digit rate compared to the prior year. ARR is a key performance metric management uses to assess the health and growth trajectory of our  Hybrid  Platform  &amp;  Solutions  business  within  the  Software  segment.  The  metric  was  updated  in  the  first  quarter  of 2024  to reflect the organizational changes described in the 'Organization of Information' section above, and to simplify the calculation. ARR is  calculated  by  using  the  current  quarter's  recurring  revenue  and  then  multiplying  that  value  by  four.  This  value  includes  the following  consumption  models:  (1)  software  subscription  agreements,  including  committed  term  licenses,  (2)  as-a-service arrangements such as SaaS and PaaS, and (3) maintenance and support contracts. ARR should be viewed independently of revenue as this performance metric and its inputs may not represent revenue that will be recognized in future periods.\\n\\nTransaction Processing revenue of $8,277 million increased 8.7 percent as reported (9.6 percent adjusted for currency) in 2024 compared to the prior year. The performance in 2024 is the result of the combination of clients' growing capacity demands, solid renewal rates,  and  increased  contribution  from  our  generative  AI  products,  including  watsonx  code  assistant  for  Z.  This  growth reflects the innovation and value of our transaction processing software, which helps our clients manage their most mission-critical workloads.\",\n",
       "   '## Dear\\xa0IBM\\xa0Investor:\\n\\nIn 2024, IBM made significant progress\\xa0in\\xa0becoming\\xa0a\\xa0higher\\xa0growth, higher\\xa0margin\\xa0business.\\xa0We\\xa0made\\xa0this progress\\xa0by\\xa0combining\\xa0technology innovation\\xa0and\\xa0consulting\\xa0expertise to\\xa0drive\\xa0growth,\\xa0improve\\xa0productivity, and enhance operational efficiency -for\\xa0our\\xa0clients,\\xa0and\\xa0our\\xa0own\\xa0company.\\n\\nOur\\xa0strategy\\xa0continues\\xa0to\\xa0build\\xa0upon\\xa0the\\xa0two\\xa0technological foundations\\xa0of\\xa0AI\\xa0and\\xa0hybrid\\xa0cloud,\\xa0which\\xa0clients\\xa0need\\xa0to unlock\\xa0the\\xa0full\\xa0value\\xa0of\\xa0their\\xa0data.\\xa0We\\xa0have\\xa0made\\xa0a\\xa0series\\xa0of investments\\xa0to\\xa0accelerate\\xa0the\\xa0delivery\\xa0of\\xa0that\\xa0value\\xa0to\\xa0our clients,\\xa0from\\xa0transforming\\xa0the\\xa0way\\xa0we\\xa0work\\xa0to\\xa0reorienting\\xa0our portfolio around powerful, AI-based solutions.\\n\\nAs\\xa0this\\xa0report\\xa0demonstrates,\\xa0these\\xa0investments\\xa0are\\xa0paying off,\\xa0delivering\\xa0meaningful\\xa0returns\\xa0for\\xa0our\\xa0shareholders, clients, and partners. Today, IBM is a software-led, fully integrated\\xa0platform\\xa0company,\\xa0built\\xa0to\\xa0grow\\xa0sustainably.\\xa0This is\\xa0the\\xa0ROI\\xa0of\\xa0IBM.']},\n",
       " {'user_input': \"How did IBM's R&D spending change compared to previous years?\",\n",
       "  'user_input_type': 'summary',\n",
       "  'user_input_topic': 'Technological Innovations and R&D Investments',\n",
       "  'user_profile': 'Professional stock market analyst',\n",
       "  'additional_instructions': 'Keep the question to 10 words or less.',\n",
       "  'reference': \"IBM's research, development, and engineering (RD&E) expense increased by 10.4 percent in 2024 compared to 2023. This increase was primarily driven by investments aimed at driving innovation in AI, hybrid cloud, quantum computing, and infrastructure in preparation for the next IBM Z cycle in 2025.\",\n",
       "  'reference_contexts': [\"## 22 Management Discussion\\n\\nInternational Business Machines Corporation and Subsidiary Companies\\n\\nTotal  selling,  general  and  administrative  (SG&amp;A)  expense  increased  3.6  percent  in  2024  versus  2023,  driven  primarily  by  the following factors:\\n\\n- · Higher net spending (3 points), including expenses of acquired businesses (1 point), as a result of our continued investment to drive  our  hybrid  cloud  and  AI  strategy;  partially  offset  by  benefits  from  productivity  and  the  actions  taken  to  transform  our operations; and\\n- · Higher workforce rebalancing charges (1 point) to address stranded costs and accelerate our productivity initiatives; partially offset by\\n- · The effects of currency (1 point).\\n\\nOperating (non-GAAP) SG&amp;A expense increased 3.1 percent year to year primarily driven by the same factors.\\n\\nExpected credit loss was a benefit of $21 million in 2024 as compared to a provision of $10 million in 2023. The year-to-year change was primarily driven by lower specific reserve requirements in the current year. Refer to 'Receivables and Allowances' section on page 25 for additional information.\\n\\nResearch, Development and Engineering Expense\\n\\n($ in millions)\\n\\n| For the                                     | 2024    | 2023    | Yr.-to-Yr. Percent Change   |\\n|---------------------------------------------|---------|---------|-----------------------------|\\n| Total research, development and engineering | $ 7,479 | $ 6,775 | 10.4 %                      |\\n\\nResearch,  development  and  engineering  (RD&amp;E)  expense  increased 10.4  percent  in  2024  versus  2023,  primarily  driven  by investments to drive innovation in AI, hybrid cloud and quantum, as well as in Infrastructure ahead of our next IBM Z cycle in 2025.\\n\\nIntellectual Property and Custom Development Income\\n\\n($ in millions)\\n\\n| For the year ended December 31:      | 2024   | 2023   | Yr.-to-Yr. Percent Change   |\\n|--------------------------------------|--------|--------|-----------------------------|\\n| Intellectual property income (1) (2) | $ 329  | $ 374  | (12.1)%                     |\\n| Custom development income            | 667    | 485    | 37.5                        |\\n| Total                                | $ 996  | $ 860  | 15.9 %                      |\\n\\n(1) Includes licensing, royalty-based fees and sales.\\n\\n(2) Prior-year amounts have been reclassified to conform to the change in 2024 presentation.\\n\\nTotal Intellectual Property and Custom Development Income increased 15.9 percent in 2024 compared to 2023. The increase was primarily driven by joint development and licensing agreements with a Japanese consortium to leverage our intellectual property and expertise on advanced semiconductors.\\n\\nThe timing and amount of licensing, sales or other transfers of IP may vary significantly from period to period depending upon the timing  of  licensing  agreements,  economic  conditions,  industry  consolidation  and  the  timing  of  new  patents  and  know-how development.\"]},\n",
       " {'user_input': \"How did IBM's financial performance compare to previous years?\",\n",
       "  'user_input_type': 'summary',\n",
       "  'user_input_topic': 'Financial Performance and Revenue Growth',\n",
       "  'user_profile': 'Professional stock market analyst',\n",
       "  'additional_instructions': 'Keep the question to 10 words or less.',\n",
       "  'reference': \"In 2024, IBM's financial performance showed some positive trends compared to previous years. The company generated $62.8 billion in revenue, which was an increase of 3% at constant currency compared to 2023. This growth was reflected in the total revenue, which rose to $62.753 billion in 2024 from $61.860 billion in 2023 and $60.530 billion in 2022. Additionally, IBM's free cash flow increased by $1.5 billion year-over-year, reaching $12.7 billion in 2024.\\n\\nIBM's software revenue grew by 9% at constant currency, driven by strong demand for its capabilities in hybrid cloud, data and AI, automation, transaction processing, and security. However, consulting revenue only increased by 1% at constant currency, and infrastructure revenue declined by 3% at constant currency, aligning with product cycle expectations.\\n\\nThe company's pre-tax income from continuing operations decreased to $5.797 billion in 2024 from $8.690 billion in 2023, although it was significantly higher than the $1.156 billion reported in 2022. The decrease in pre-tax income from 2023 to 2024 was influenced by various factors, including amortization of acquired intangible assets, non-operating retirement-related costs, and workforce rebalancing charges.\\n\\nIBM's return on equity decreased to 23.3% in 2024 from 25.1% in 2023, primarily due to a decrease in net income. Despite these challenges, IBM made significant investments in research and development, closed 11 acquisitions, and returned more than $6 billion to shareholders through dividends in 2024.\",\n",
       "  'reference_contexts': [\"## 2024\\xa0Performance\\n\\nFor\\xa0the\\xa0year,\\xa0IBM\\xa0generated\\xa0$62.8\\xa0billion\\xa0in\\xa0revenue,\\xa0up\\xa03% at\\xa0constant\\xa0currency,\\xa0and\\xa0$12.7\\xa0billion\\xa0in\\xa0free\\xa0cash\\xa0flow\\xa0-\\xa0an increase of $1.5 billion year-over-year. Our generative AI book\\xa0of\\xa0business\\xa0now\\xa0stands\\xa0at\\xa0more\\xa0than\\xa0$5\\xa0billion\\xa0since inception.\\xa0This\\xa0revenue\\xa0growth\\xa0and\\xa0cash\\xa0generation\\xa0enabled us to make significant investments in the business and deliver value\\xa0to\\xa0our\\xa0shareholders.\\xa0In\\xa02024,\\xa0we\\xa0allocated\\xa0more\\xa0than\\xa0$7 billion\\xa0to\\xa0research\\xa0and\\xa0development,\\xa0closed\\xa011\\xa0acquisitions to\\xa0enhance\\xa0our\\xa0capabilities,\\xa0and\\xa0returned\\xa0more\\xa0than\\xa0$6\\xa0billion\\n\\nto\\xa0shareholders\\xa0through\\xa0dividends.\\xa0IBM\\xa0expanded\\xa0operating gross profit margin by 130 basis points in 2024, driven by a focus on high-value offerings and productivity initiatives.\\n\\nSoftware revenue\\xa0grew\\xa09%\\xa0at\\xa0constant\\xa0currency,\\xa0reflecting strong\\xa0demand\\xa0for\\xa0our\\xa0advanced\\xa0capabilities\\xa0in\\xa0hybrid\\xa0cloud, data\\xa0and\\xa0AI,\\xa0automation,\\xa0transaction\\xa0processing,\\xa0and\\xa0security. Red\\xa0Hat\\xa0performed\\xa0well\\xa0as\\xa0clients\\xa0embraced\\xa0its\\xa0open\\xa0hybrid cloud\\xa0platform.\\n\\nConsulting revenue\\xa0increased\\xa01%\\xa0at\\xa0constant\\xa0currency, demonstrating\\xa0our\\xa0clients'\\xa0continued\\xa0need\\xa0for\\xa0expertise\\xa0in\\xa0AI deployment,\\xa0digital\\xa0transformation,\\xa0and\\xa0cloud\\xa0modernization, despite\\xa0a\\xa0dynamic\\xa0market\\xa0environment.\\n\\nIBM\\xa0has\\xa0established\\xa0an\\xa0early\\xa0leadership\\xa0position\\xa0in\\xa0this regard,\\xa0building\\xa0a\\xa0portfolio\\xa0of\\xa0enterprise\\xa0AI\\xa0offerings\\xa0focused on\\xa0generating\\xa0ROI\\xa0through\\xa0productivity\\xa0improvements\\xa0and automation.\\xa0IBM\\xa0watsonx\\xa0provides\\xa0a\\xa0robust\\xa0portfolio\\xa0of AI\\xa0products\\xa0for\\xa0developing\\xa0AI\\xa0apps,\\xa0managing\\xa0data,\\xa0and governing\\xa0the\\xa0entire\\xa0lifecycle\\xa0of\\xa0AI\\xa0models.\\xa0AI\\xa0assistants manage\\xa0key\\xa0tasks,\\xa0including\\xa0customer\\xa0service\\xa0and\\xa0writing code. We are developing pre-built AI agents that deliver multitask reasoning for specific business domains. And our Granite family of fit-for-purpose AI models, when tuned with proprietary data, can deliver enterprise-grade generative AI with up to 90% improved cost efficiency. Granite allows clients to\\xa0bring\\xa0their\\xa0own\\xa0data\\xa0into\\xa0the\\xa0models,\\xa0and\\xa0can\\xa0be\\xa0trained\\xa0on that\\xa0data\\xa0in\\xa0weeks,\\xa0not\\xa0months.\\n\\nInfrastructure revenue\\xa0declined\\xa03%\\xa0at\\xa0constant\\xa0currency,\\xa0in line\\xa0with\\xa0product\\xa0cycle\\xa0expectations.\\xa0IBM\\xa0z16\\xa0is\\xa0now\\xa0the\\xa0most successful\\xa0mainframe\\xa0program\\xa0in\\xa0our\\xa0history,\\xa0highlighting\\xa0its enduring\\xa0value\\xa0to\\xa0clients.\",\n",
       "   \"## Reconciliations of IBM as Reported\\n\\n($ in millions)\\n\\n| For the year ended December 31:   | 2024     | 2023 (1)   | 2022 (1)   |\\n|-----------------------------------|----------|------------|------------|\\n| Revenue                           |          |            |            |\\n| Total reportable segments         | $ 62,510 | $ 61,229   | $ 59,621   |\\n| Other-divested businesses         | 35       | 397        | 774        |\\n| Other revenue                     | 207      | 235        | 135        |\\n| Total revenue                     | $ 62,753 | $ 61,860   | $ 60,530   |\\n\\n($ in millions)\\n\\n| For the year ended December 31:                     | 2024     | 2023 (1)   | 2022 (1)   |\\n|-----------------------------------------------------|----------|------------|------------|\\n| Pre-tax income from continuing operations           |          |            |            |\\n| Total reportable segment profit                     | $ 13,535 | $ 12,829   | $ 11,893   |\\n| Amortization of acquired intangible assets          | (1,830)  | (1,627)    | (1,747)    |\\n| Acquisition-related (charges)/income (2)            | (122)    | (33)       | (18)       |\\n| Non-operating retirement-related (costs)/income (3) | (3,457)  | 39         | (6,548)    |\\n| Kyndryl-related impacts (4)                         | -        | -          | (351)      |\\n| Stock-based compensation                            | (1,311)  | (1,133)    | (987)      |\\n| Net interest excluding the Financing segment        | (984)    | (973)      | (1,071)    |\\n| Workforce rebalancing charges (5)                   | (692)    | (435)      | -          |\\n| Other-divested businesses (6)                       | 234      | 83         | 239        |\\n| Unallocated corporate amounts and other (7)         | 425      | (59)       | (254)      |\\n| Total pre-tax income from continuing operations     | $ 5,797  | $ 8,690    | $ 1,156    |\\n\\n(1) Recast to reflect January 2024 segment changes.\\n\\n(2) 2024 and 2023 include the impacts of foreign exchange derivative contracts entered into by the company prior to the acquisition of StreamSets and webMethods from Software AG. Refer to note S, 'Derivative Financial Instruments,' for additional information.\\n\\n(3) 2024 and 2022 include the impacts of pension settlement charges of $3.1 billion and $5.9 billion, respectively. Refer to note U, 'Retirement-Related Benefits,' for additional information.\\n\\n(4) Net impacts for Kyndryl retained shares and related swaps. Refer to note S, 'Derivative Financial Instruments,' for additional information.\\n\\n(5) Beginning in the first quarter of 2023, the company updated its measure of segment profit, consistent with its management system, to no longer allocate workforce rebalancing charges to its reportable segments. Workforce rebalancing charges of $40\\xa0million for 2022 were included in the segments.\\n\\n(6) 2024 includes a gain from the divestiture of The Weather Company assets. 2022 includes a gain from the sale of healthcare software assets. Refer to note E, 'Acquisitions &amp; Divestitures,' for additional information.\\n\\n(7) 2024 includes a gain from the sale of certain QRadar SaaS assets. Refer to note E, 'Acquisitions &amp; Divestitures,' for additional information.\",\n",
       "   \"## Return on Equity Calculation\\n\\n($ in millions)\\n\\n| At December 31:                            | 2024    | 2023 (1)   |\\n|--------------------------------------------|---------|------------|\\n| Numerator                                  |         |            |\\n| Financing after-tax segment profit (A) (2) | $ 287   | $ 311      |\\n| Denominator                                |         |            |\\n| Average Financing equity (B) (3)           | $ 1,231 | $ 1,240    |\\n| Financing return on equity (A)/(B)         | 23.3 %  | 25.1 %     |\\n\\n(1) Recast to reflect January 2024 segment changes.\\n\\n(2) Calculated based upon an estimated tax rate, which is a function of IBM's provision for income taxes determined on a consolidated basis.\\n\\n(3) Average of the ending equity for Financing for the last five quarters.\\n\\nReturn on equity was 23.3 percent compared to 25.1 percent for the years ended December\\xa031, 2024 and 2023, respectively. The decrease was driven by a decrease in net income.\"]},\n",
       " {'user_input': \"How did IBM's financial performance in 2024 compare to the previous year, and what might this indicate about the company's future growth?\",\n",
       "  'user_input_type': 'reasoning',\n",
       "  'user_input_topic': \"Overview of IBM's Financial Performance\",\n",
       "  'user_profile': 'High school student taking a business course',\n",
       "  'additional_instructions': '',\n",
       "  'reference': \"In 2024, IBM's financial performance showed both growth and challenges compared to the previous year. The company reported $62.8 billion in revenue, which represented a 1.4 percent increase as reported and a 3 percent increase when adjusted for currency. This growth was primarily driven by strong performance in the Software segment, which saw an 8.3 percent increase in revenue as reported (9.0 percent adjusted for currency), with notable contributions from Red Hat and Automation. However, Consulting revenue decreased slightly by 0.9 percent as reported but grew 0.6 percent adjusted for currency, and Infrastructure revenue declined by 3.9 percent as reported (2.7 percent adjusted for currency).\\n\\nIBM's operating (non-GAAP) earnings were $9.7 billion, excluding the impact of pension settlement charges, and the company generated $13.4 billion in cash from operations and $12.7 billion in free cash flow, an increase of $1.5 billion year-over-year. The company also returned $6.1 billion to shareholders in dividends.\\n\\nDespite these positive aspects, IBM faced challenges, such as a decrease in net income from continuing operations to $6.0 billion from $7.5 billion in the previous year, primarily due to pension settlement charges. The pre-tax income from continuing operations also decreased to $5.8 billion from $8.7 billion in the prior year.\\n\\nOverall, IBM's performance in 2024 indicates a focus on growth through innovation and strategic investments, particularly in AI and hybrid cloud capabilities. The company's ability to generate strong cash flow and expand its operating gross profit margin suggests a positive outlook for sustainable growth. However, the impact of pension settlement charges and the decline in certain revenue segments highlight areas that may require attention to ensure continued growth in the future.\",\n",
       "  'reference_contexts': [\"## Financial Performance Summary\\n\\nIn 2024, we reported $62.8 billion in revenue, income from continuing operations of $6.0 billion, which includes the impact of the pension  settlement  charges  of  $3.1  billion  ($2.4  billion  net  of  tax),  and  operating  (non-GAAP)  earnings  of  $9.7  billion,  which excludes the impact of the pension settlement charges. Refer to 'Organization of Information,' for additional information. Diluted earnings per share from continuing operations was $6.42 as reported, including an impact of $2.57 from the pension settlement charges, and diluted earnings per share was $10.33 on an operating (non-GAAP) basis. We generated $13.4 billion in cash from operations  and  $12.7  billion  in  free  cash  flow,  and  returned  $6.1  billion  to  shareholders  in  dividends.  We  are  pleased  with  the progress we made in 2024, delivering revenue growth in our re-positioned business and strong cash flow generation. Our 2024 performance demonstrates the success of our focused strategy, enhanced portfolio and sustainable revenue growth. We increased our  investment  in  innovation  and  talent  and  completed  eleven  acquisitions  in  2024,  strengthening  our  hybrid  cloud  and  AI capabilities, all while continuing to return value to shareholders through our dividend.\\n\\nTotal revenue grew 1.4 percent year to year as reported and 3 percent adjusted for currency compared to the prior year, led by our Software performance. Software revenue increased 8.3 percent as reported and 9.0 percent adjusted for currency, with strength across our portfolio. Hybrid Platform &amp; Solutions increased 8.1 percent as reported and 8.7 percent adjusted for currency, reflecting growth across all lines of business with double-digit revenue growth in Red Hat and Automation. Transaction Processing increased 8.7 percent as reported and 9.6 percent adjusted for currency, with growth in both recurring and transactional revenue. Consulting revenue decreased 0.9 percent as reported but grew 0.6 percent adjusted for currency, and continued to be impacted by a dynamic market environment as clients reprioritized spending. Infrastructure decreased 3.9 percent year to year as reported and 2.7 percent adjusted for currency, reflecting product cycle dynamics.\\n\\nFrom  a  geographic  perspective,  Americas  revenue  decreased  1.3  percent  year  to  year  as  reported  (0.7  percent  adjusted  for currency).  Europe/Middle East/Africa (EMEA) increased 5.1 percent as reported (4.7 percent adjusted for currency). Asia Pacific grew 3.0 percent as reported (7.9 percent adjusted for currency).\\n\\nGross  margin  of  56.7  percent  increased  1.2  points  year  to  year,  with  continued  margin  expansion  driven  by  portfolio  mix  and ongoing productivity initiatives. Operating (non-GAAP) gross margin of 57.8 percent increased 1.3 points versus the prior year, due to the same dynamics.\\n\\nTotal expense and other (income) increased 16.2 percent in 2024 versus the prior year primarily driven by the pension settlement charges of $3.1 billion in 2024, higher spending reflecting our continued investment in portfolio innovation to drive our strategy and higher  workforce rebalancing charges. This was partially offset by a gain from the sale of certain QRadar Software-as-a-Service (SaaS) assets, the gain on the divestiture of The Weather Company assets, the benefits from productivity and the actions taken to transform  our  operations,  and  the  effects  of  currency.  Total  operating  (non-GAAP)  expense  and  other  (income)  increased  1.8 percent year to year, driven primarily by the factors described above, excluding the pension settlement charges.\\n\\nPre-tax income from continuing operations was $5.8 billion in 2024 compared with $8.7 billion in the prior year and pre-tax margin was  9.2  percent,  a  decrease  of  4.8  points  versus  2023.  The  year-to-year  performance  was  primarily  driven  by  the  pension settlement charges in 2024 partially offset by our gross margin expansion and the benefits from productivity and the actions taken to transform our operations which enabled investments to drive innovation. The continuing operations effective tax rate for 2024 was (3.8) percent compared to 13.5 percent in 2023. The current-year effective tax rate was primarily driven by the tax impact of the pension settlement charges and the resolution of certain tax audit matters. Net income from continuing operations was $6.0 billion in 2024 compared with $7.5 billion in the prior year and net income from continuing operations margin was 9.6 percent, a decrease of 2.6 points year to year. Operating (non-GAAP) pre-tax income from continuing operations of $11.2 billion increased 8.7 percent year to year and the operating (non-GAAP) pre-tax margin from continuing operations increased 1.2 points to 17.9 percent. Our revenue growth, portfolio mix and productivity initiatives resulted in strong operating (non-GAAP) pre-tax income growth in 2024 compared to the prior year. The operating (non-GAAP) effective tax rate for 2024 was 13.6 percent compared to 14.0 percent\",\n",
       "   \"## 2024\\xa0Performance\\n\\nFor\\xa0the\\xa0year,\\xa0IBM\\xa0generated\\xa0$62.8\\xa0billion\\xa0in\\xa0revenue,\\xa0up\\xa03% at\\xa0constant\\xa0currency,\\xa0and\\xa0$12.7\\xa0billion\\xa0in\\xa0free\\xa0cash\\xa0flow\\xa0-\\xa0an increase of $1.5 billion year-over-year. Our generative AI book\\xa0of\\xa0business\\xa0now\\xa0stands\\xa0at\\xa0more\\xa0than\\xa0$5\\xa0billion\\xa0since inception.\\xa0This\\xa0revenue\\xa0growth\\xa0and\\xa0cash\\xa0generation\\xa0enabled us to make significant investments in the business and deliver value\\xa0to\\xa0our\\xa0shareholders.\\xa0In\\xa02024,\\xa0we\\xa0allocated\\xa0more\\xa0than\\xa0$7 billion\\xa0to\\xa0research\\xa0and\\xa0development,\\xa0closed\\xa011\\xa0acquisitions to\\xa0enhance\\xa0our\\xa0capabilities,\\xa0and\\xa0returned\\xa0more\\xa0than\\xa0$6\\xa0billion\\n\\nto\\xa0shareholders\\xa0through\\xa0dividends.\\xa0IBM\\xa0expanded\\xa0operating gross profit margin by 130 basis points in 2024, driven by a focus on high-value offerings and productivity initiatives.\\n\\nSoftware revenue\\xa0grew\\xa09%\\xa0at\\xa0constant\\xa0currency,\\xa0reflecting strong\\xa0demand\\xa0for\\xa0our\\xa0advanced\\xa0capabilities\\xa0in\\xa0hybrid\\xa0cloud, data\\xa0and\\xa0AI,\\xa0automation,\\xa0transaction\\xa0processing,\\xa0and\\xa0security. Red\\xa0Hat\\xa0performed\\xa0well\\xa0as\\xa0clients\\xa0embraced\\xa0its\\xa0open\\xa0hybrid cloud\\xa0platform.\\n\\nConsulting revenue\\xa0increased\\xa01%\\xa0at\\xa0constant\\xa0currency, demonstrating\\xa0our\\xa0clients'\\xa0continued\\xa0need\\xa0for\\xa0expertise\\xa0in\\xa0AI deployment,\\xa0digital\\xa0transformation,\\xa0and\\xa0cloud\\xa0modernization, despite\\xa0a\\xa0dynamic\\xa0market\\xa0environment.\\n\\nIBM\\xa0has\\xa0established\\xa0an\\xa0early\\xa0leadership\\xa0position\\xa0in\\xa0this regard,\\xa0building\\xa0a\\xa0portfolio\\xa0of\\xa0enterprise\\xa0AI\\xa0offerings\\xa0focused on\\xa0generating\\xa0ROI\\xa0through\\xa0productivity\\xa0improvements\\xa0and automation.\\xa0IBM\\xa0watsonx\\xa0provides\\xa0a\\xa0robust\\xa0portfolio\\xa0of AI\\xa0products\\xa0for\\xa0developing\\xa0AI\\xa0apps,\\xa0managing\\xa0data,\\xa0and governing\\xa0the\\xa0entire\\xa0lifecycle\\xa0of\\xa0AI\\xa0models.\\xa0AI\\xa0assistants manage\\xa0key\\xa0tasks,\\xa0including\\xa0customer\\xa0service\\xa0and\\xa0writing code. We are developing pre-built AI agents that deliver multitask reasoning for specific business domains. And our Granite family of fit-for-purpose AI models, when tuned with proprietary data, can deliver enterprise-grade generative AI with up to 90% improved cost efficiency. Granite allows clients to\\xa0bring\\xa0their\\xa0own\\xa0data\\xa0into\\xa0the\\xa0models,\\xa0and\\xa0can\\xa0be\\xa0trained\\xa0on that\\xa0data\\xa0in\\xa0weeks,\\xa0not\\xa0months.\\n\\nInfrastructure revenue\\xa0declined\\xa03%\\xa0at\\xa0constant\\xa0currency,\\xa0in line\\xa0with\\xa0product\\xa0cycle\\xa0expectations.\\xa0IBM\\xa0z16\\xa0is\\xa0now\\xa0the\\xa0most successful\\xa0mainframe\\xa0program\\xa0in\\xa0our\\xa0history,\\xa0highlighting\\xa0its enduring\\xa0value\\xa0to\\xa0clients.\",\n",
       "   \"## Management Discussion\\n\\nInternational Business Machines Corporation and Subsidiary Companies\\n\\nSoftware revenue of $27,085 million increased 8.3 percent as reported (9.0 percent adjusted for currency) in 2024 compared to the prior year, reflecting growth across all lines of business with double-digit growth in Red Hat and Automation and high single-digit growth  in  Transaction  Processing.  This  revenue  performance  reflects  the  investments  we  have  been  making  in  Software,  both organically and through acquisitions. Our investments in generative AI are contributing to growth, as we had strong demand for our generative AI products such as watsonx, Concert and our AI assistants. We also launched new products in the fourth quarter of 2024  including  our  next  generation  of  watsonx  Code  Assistant  and  Guardium  Quantum  Safe.  In  2024,  we  also  had  increased revenue contribution from acquisitions compared to the prior year, including Apptio and StreamSets and webMethods. In addition, we  had  solid  growth  in  our  recurring  revenue  and  double-digit  growth  in  our  transactional  software  revenue  in  2024,  as  we accelerated growth through innovation across our Software portfolio.\\n\\nHybrid Platform &amp; Solutions revenue of $18,808 million increased 8.1 percent as reported (8.7 percent adjusted for currency) in 2024 compared to the prior year. Within Hybrid Platform &amp; Solutions, Red Hat revenue increased 11.4 percent as reported (12.0 percent  adjusted  for  currency),  which  reflects  the  continued  demand  for  our  hybrid  cloud  solutions  as  clients  are  prioritizing application modernization on OpenShift containers and Ansible automation to optimize their IT spending and reduce operational complexity. In 2024, we had double-digit revenue growth in OpenShift and Ansible, and high single-digit revenue growth in RHEL. The  growth  in  OpenShift  revenue  reflects  increased  volume  in  OpenShift  Virtualization  engagements,  and  we  exited  2024  with OpenShift annual recurring revenue of $1.4 billion. Automation revenue increased 14.2 percent as reported (14.8 percent adjusted for  currency),  driven  by  our  SaaS  subscription  offerings  such  as  AIOps  and  Management,  which  includes  the  higher  revenue contribution  from Apptio.  Data  &amp;  AI  revenue  increased  1.6  percent  as  reported  (2.2  percent  adjusted  for  currency),  with  strong growth in  Data  Fabric  and  our  AI  assistant  for  Customer  Care,  driven  by  client  demand  for  our  watsonx  platform  offerings,  and strength  in  asset  and  supply  chain  management  software  which  helps  clients  run  sustainable  operations.  Security  revenue increased 0.8 percent as reported (1.5 percent adjusted for currency), with revenue growth in data security and identity and access management, partially offset by a revenue decline in security threat management.\\n\\nAcross Hybrid Platform &amp; Solutions, our annual recurring revenue (ARR) was $15.3 billion exiting 2024, growing at a double-digit rate compared to the prior year. ARR is a key performance metric management uses to assess the health and growth trajectory of our  Hybrid  Platform  &amp;  Solutions  business  within  the  Software  segment.  The  metric  was  updated  in  the  first  quarter  of 2024  to reflect the organizational changes described in the 'Organization of Information' section above, and to simplify the calculation. ARR is  calculated  by  using  the  current  quarter's  recurring  revenue  and  then  multiplying  that  value  by  four.  This  value  includes  the following  consumption  models:  (1)  software  subscription  agreements,  including  committed  term  licenses,  (2)  as-a-service arrangements such as SaaS and PaaS, and (3) maintenance and support contracts. ARR should be viewed independently of revenue as this performance metric and its inputs may not represent revenue that will be recognized in future periods.\\n\\nTransaction Processing revenue of $8,277 million increased 8.7 percent as reported (9.6 percent adjusted for currency) in 2024 compared to the prior year. The performance in 2024 is the result of the combination of clients' growing capacity demands, solid renewal rates,  and  increased  contribution  from  our  generative  AI  products,  including  watsonx  code  assistant  for  Z.  This  growth reflects the innovation and value of our transaction processing software, which helps our clients manage their most mission-critical workloads.\",\n",
       "   '## Dear\\xa0IBM\\xa0Investor:\\n\\nIn 2024, IBM made significant progress\\xa0in\\xa0becoming\\xa0a\\xa0higher\\xa0growth, higher\\xa0margin\\xa0business.\\xa0We\\xa0made\\xa0this progress\\xa0by\\xa0combining\\xa0technology innovation\\xa0and\\xa0consulting\\xa0expertise to\\xa0drive\\xa0growth,\\xa0improve\\xa0productivity, and enhance operational efficiency -for\\xa0our\\xa0clients,\\xa0and\\xa0our\\xa0own\\xa0company.\\n\\nOur\\xa0strategy\\xa0continues\\xa0to\\xa0build\\xa0upon\\xa0the\\xa0two\\xa0technological foundations\\xa0of\\xa0AI\\xa0and\\xa0hybrid\\xa0cloud,\\xa0which\\xa0clients\\xa0need\\xa0to unlock\\xa0the\\xa0full\\xa0value\\xa0of\\xa0their\\xa0data.\\xa0We\\xa0have\\xa0made\\xa0a\\xa0series\\xa0of investments\\xa0to\\xa0accelerate\\xa0the\\xa0delivery\\xa0of\\xa0that\\xa0value\\xa0to\\xa0our clients,\\xa0from\\xa0transforming\\xa0the\\xa0way\\xa0we\\xa0work\\xa0to\\xa0reorienting\\xa0our portfolio around powerful, AI-based solutions.\\n\\nAs\\xa0this\\xa0report\\xa0demonstrates,\\xa0these\\xa0investments\\xa0are\\xa0paying off,\\xa0delivering\\xa0meaningful\\xa0returns\\xa0for\\xa0our\\xa0shareholders, clients, and partners. Today, IBM is a software-led, fully integrated\\xa0platform\\xa0company,\\xa0built\\xa0to\\xa0grow\\xa0sustainably.\\xa0This is\\xa0the\\xa0ROI\\xa0of\\xa0IBM.']}]"
      ]
     },
     "execution_count": 46,
     "metadata": {},
     "output_type": "execute_result"
    }
   ],
   "source": [
    "data = evaluation_utilities.run_reference_rag(\n",
    "    question_data,\n",
    "    reference_answer_generator_model,\n",
    "    index,\n",
    "    output_file,\n",
    "    number_of_search_results=5,\n",
    ")\n",
    "\n",
    "data[0:5]"
   ]
  },
  {
   "cell_type": "code",
   "execution_count": 47,
   "metadata": {},
   "outputs": [],
   "source": [
    "# evaluation_utilities.write_json(data, output_file)"
   ]
  },
  {
   "cell_type": "markdown",
   "metadata": {},
   "source": [
    "## Analyzing Questions"
   ]
  },
  {
   "cell_type": "code",
   "execution_count": 48,
   "metadata": {},
   "outputs": [
    {
     "data": {
      "text/plain": [
       "'./questions_and_reference_answers-ibm-2024b-78-77.json'"
      ]
     },
     "execution_count": 48,
     "metadata": {},
     "output_type": "execute_result"
    }
   ],
   "source": [
    "# Reload the data from disk.  This is here to let you restart the notebook from this point.\n",
    "data = evaluation_utilities.read_json(output_file)\n",
    "output_file"
   ]
  },
  {
   "cell_type": "code",
   "execution_count": 49,
   "metadata": {},
   "outputs": [
    {
     "data": {
      "text/plain": [
       "[{'user_input': \"How did IBM's 2024 dividends compare to previous years?\",\n",
       "  'user_input_type': 'summary',\n",
       "  'user_input_topic': 'Shareholder Returns and Dividend Policies',\n",
       "  'user_profile': 'Professional stock market analyst',\n",
       "  'additional_instructions': 'Keep the question to 10 words or less.',\n",
       "  'reference': 'In 2024, IBM continued its trend of increasing dividends, marking 29 consecutive years of dividend increases. This indicates that the dividends in 2024 were higher compared to previous years.',\n",
       "  'reference_contexts': [\"## 2024\\xa0Performance\\n\\nFor\\xa0the\\xa0year,\\xa0IBM\\xa0generated\\xa0$62.8\\xa0billion\\xa0in\\xa0revenue,\\xa0up\\xa03% at\\xa0constant\\xa0currency,\\xa0and\\xa0$12.7\\xa0billion\\xa0in\\xa0free\\xa0cash\\xa0flow\\xa0-\\xa0an increase of $1.5 billion year-over-year. Our generative AI book\\xa0of\\xa0business\\xa0now\\xa0stands\\xa0at\\xa0more\\xa0than\\xa0$5\\xa0billion\\xa0since inception.\\xa0This\\xa0revenue\\xa0growth\\xa0and\\xa0cash\\xa0generation\\xa0enabled us to make significant investments in the business and deliver value\\xa0to\\xa0our\\xa0shareholders.\\xa0In\\xa02024,\\xa0we\\xa0allocated\\xa0more\\xa0than\\xa0$7 billion\\xa0to\\xa0research\\xa0and\\xa0development,\\xa0closed\\xa011\\xa0acquisitions to\\xa0enhance\\xa0our\\xa0capabilities,\\xa0and\\xa0returned\\xa0more\\xa0than\\xa0$6\\xa0billion\\n\\nto\\xa0shareholders\\xa0through\\xa0dividends.\\xa0IBM\\xa0expanded\\xa0operating gross profit margin by 130 basis points in 2024, driven by a focus on high-value offerings and productivity initiatives.\\n\\nSoftware revenue\\xa0grew\\xa09%\\xa0at\\xa0constant\\xa0currency,\\xa0reflecting strong\\xa0demand\\xa0for\\xa0our\\xa0advanced\\xa0capabilities\\xa0in\\xa0hybrid\\xa0cloud, data\\xa0and\\xa0AI,\\xa0automation,\\xa0transaction\\xa0processing,\\xa0and\\xa0security. Red\\xa0Hat\\xa0performed\\xa0well\\xa0as\\xa0clients\\xa0embraced\\xa0its\\xa0open\\xa0hybrid cloud\\xa0platform.\\n\\nConsulting revenue\\xa0increased\\xa01%\\xa0at\\xa0constant\\xa0currency, demonstrating\\xa0our\\xa0clients'\\xa0continued\\xa0need\\xa0for\\xa0expertise\\xa0in\\xa0AI deployment,\\xa0digital\\xa0transformation,\\xa0and\\xa0cloud\\xa0modernization, despite\\xa0a\\xa0dynamic\\xa0market\\xa0environment.\\n\\nIBM\\xa0has\\xa0established\\xa0an\\xa0early\\xa0leadership\\xa0position\\xa0in\\xa0this regard,\\xa0building\\xa0a\\xa0portfolio\\xa0of\\xa0enterprise\\xa0AI\\xa0offerings\\xa0focused on\\xa0generating\\xa0ROI\\xa0through\\xa0productivity\\xa0improvements\\xa0and automation.\\xa0IBM\\xa0watsonx\\xa0provides\\xa0a\\xa0robust\\xa0portfolio\\xa0of AI\\xa0products\\xa0for\\xa0developing\\xa0AI\\xa0apps,\\xa0managing\\xa0data,\\xa0and governing\\xa0the\\xa0entire\\xa0lifecycle\\xa0of\\xa0AI\\xa0models.\\xa0AI\\xa0assistants manage\\xa0key\\xa0tasks,\\xa0including\\xa0customer\\xa0service\\xa0and\\xa0writing code. We are developing pre-built AI agents that deliver multitask reasoning for specific business domains. And our Granite family of fit-for-purpose AI models, when tuned with proprietary data, can deliver enterprise-grade generative AI with up to 90% improved cost efficiency. Granite allows clients to\\xa0bring\\xa0their\\xa0own\\xa0data\\xa0into\\xa0the\\xa0models,\\xa0and\\xa0can\\xa0be\\xa0trained\\xa0on that\\xa0data\\xa0in\\xa0weeks,\\xa0not\\xa0months.\\n\\nInfrastructure revenue\\xa0declined\\xa03%\\xa0at\\xa0constant\\xa0currency,\\xa0in line\\xa0with\\xa0product\\xa0cycle\\xa0expectations.\\xa0IBM\\xa0z16\\xa0is\\xa0now\\xa0the\\xa0most successful\\xa0mainframe\\xa0program\\xa0in\\xa0our\\xa0history,\\xa0highlighting\\xa0its enduring\\xa0value\\xa0to\\xa0clients.\",\n",
       "   \"## The\\xa0ROI\\xa0of\\xa0IBM\\n\\nAt\\xa0IBM,\\xa0we\\xa0expect\\xa0all\\xa0investments\\xa0to\\xa0yield\\xa0a\\xa0return.\\xa0That is\\xa0evident\\xa0in\\xa0the\\xa0increasing\\xa0value\\xa0we\\xa0are\\xa0delivering\\xa0for\\xa0our shareholders,\\xa0clients,\\xa0and\\xa0employees.\\n\\nFor\\xa0shareholders,\\xa0we\\xa0have\\xa0delivered\\xa029\\xa0consecutive\\xa0years\\xa0of dividend\\xa0increases.\\xa0And\\xa0from\\xa02022\\xa0through\\xa0the\\xa0end\\xa0of\\xa02024, we\\xa0created\\xa0greater\\xa0than\\xa0$100\\xa0billion\\xa0in\\xa0shareholder\\xa0value\\xa0and outperformed\\xa0the\\xa0S&amp;P\\xa0500\\xa0by\\xa058\\xa0points.\\n\\nFor\\xa0the\\xa0IBMers\\xa0around\\xa0the\\xa0world\\xa0who\\xa0invest\\xa0their\\xa0time\\xa0and talent\\xa0in\\xa0serving\\xa0our\\xa0clients\\xa0and\\xa0partners,\\xa0the\\xa0return\\xa0is\\xa0evident in\\xa0our\\xa0culture.\\xa0The\\xa0vast\\xa0majority\\xa0of\\xa0our\\xa0workforce\\xa0recommend IBM\\xa0as\\xa0a\\xa0great\\xa0place\\xa0to\\xa0work\\xa0and\\xa0say\\xa0they\\xa0are\\xa0proud\\xa0to\\xa0be IBMers.\\xa0That\\xa0culture\\xa0is\\xa0fueled,\\xa0in\\xa0part,\\xa0by\\xa0IBM's\\xa0commitment to\\xa0develop\\xa0the\\xa0skills\\xa0our\\xa0workforce\\xa0requires\\xa0to\\xa0lead\\xa0the\\xa0next eras\\xa0of\\xa0technology.\\n\\nAs\\xa0we\\xa0look\\xa0ahead,\\xa0we\\xa0will\\xa0continue\\xa0to\\xa0drive\\xa0returns\\xa0and\\xa0deliver on\\xa0our\\xa0commitment\\xa0to\\xa0be\\xa0the\\xa0catalyst\\xa0that\\xa0makes\\xa0the\\xa0world work\\xa0better.\\xa0We\\xa0extend\\xa0this\\xa0simple\\xa0invitation\\xa0for\\xa0you\\xa0to\\xa0join\\xa0us on this journey: Let's Create.\"]},\n",
       " {'user_input': \"How did IBM's 2024 partnerships affect its financial performance?\",\n",
       "  'user_input_type': 'summary',\n",
       "  'user_input_topic': 'Mergers, Acquisitions, and Partnerships',\n",
       "  'user_profile': 'Professional stock market analyst',\n",
       "  'additional_instructions': 'Keep the question to 10 words or less.',\n",
       "  'reference': \"The provided context does not explicitly mention specific partnerships or their direct impact on IBM's financial performance in 2024. However, it highlights IBM's strategic focus on technology innovation and consulting expertise, particularly in AI and hybrid cloud, which are likely supported by partnerships. The context emphasizes IBM's investments in these areas, contributing to revenue growth and improved margins. While partnerships are not directly mentioned, the overall strategy and investments in AI and hybrid cloud, which often involve collaborations, have positively impacted IBM's financial performance, as evidenced by increased revenue, expanded profit margins, and significant growth in software and AI-related offerings.\",\n",
       "  'reference_contexts': [\"## 2024\\xa0Performance\\n\\nFor\\xa0the\\xa0year,\\xa0IBM\\xa0generated\\xa0$62.8\\xa0billion\\xa0in\\xa0revenue,\\xa0up\\xa03% at\\xa0constant\\xa0currency,\\xa0and\\xa0$12.7\\xa0billion\\xa0in\\xa0free\\xa0cash\\xa0flow\\xa0-\\xa0an increase of $1.5 billion year-over-year. Our generative AI book\\xa0of\\xa0business\\xa0now\\xa0stands\\xa0at\\xa0more\\xa0than\\xa0$5\\xa0billion\\xa0since inception.\\xa0This\\xa0revenue\\xa0growth\\xa0and\\xa0cash\\xa0generation\\xa0enabled us to make significant investments in the business and deliver value\\xa0to\\xa0our\\xa0shareholders.\\xa0In\\xa02024,\\xa0we\\xa0allocated\\xa0more\\xa0than\\xa0$7 billion\\xa0to\\xa0research\\xa0and\\xa0development,\\xa0closed\\xa011\\xa0acquisitions to\\xa0enhance\\xa0our\\xa0capabilities,\\xa0and\\xa0returned\\xa0more\\xa0than\\xa0$6\\xa0billion\\n\\nto\\xa0shareholders\\xa0through\\xa0dividends.\\xa0IBM\\xa0expanded\\xa0operating gross profit margin by 130 basis points in 2024, driven by a focus on high-value offerings and productivity initiatives.\\n\\nSoftware revenue\\xa0grew\\xa09%\\xa0at\\xa0constant\\xa0currency,\\xa0reflecting strong\\xa0demand\\xa0for\\xa0our\\xa0advanced\\xa0capabilities\\xa0in\\xa0hybrid\\xa0cloud, data\\xa0and\\xa0AI,\\xa0automation,\\xa0transaction\\xa0processing,\\xa0and\\xa0security. Red\\xa0Hat\\xa0performed\\xa0well\\xa0as\\xa0clients\\xa0embraced\\xa0its\\xa0open\\xa0hybrid cloud\\xa0platform.\\n\\nConsulting revenue\\xa0increased\\xa01%\\xa0at\\xa0constant\\xa0currency, demonstrating\\xa0our\\xa0clients'\\xa0continued\\xa0need\\xa0for\\xa0expertise\\xa0in\\xa0AI deployment,\\xa0digital\\xa0transformation,\\xa0and\\xa0cloud\\xa0modernization, despite\\xa0a\\xa0dynamic\\xa0market\\xa0environment.\\n\\nIBM\\xa0has\\xa0established\\xa0an\\xa0early\\xa0leadership\\xa0position\\xa0in\\xa0this regard,\\xa0building\\xa0a\\xa0portfolio\\xa0of\\xa0enterprise\\xa0AI\\xa0offerings\\xa0focused on\\xa0generating\\xa0ROI\\xa0through\\xa0productivity\\xa0improvements\\xa0and automation.\\xa0IBM\\xa0watsonx\\xa0provides\\xa0a\\xa0robust\\xa0portfolio\\xa0of AI\\xa0products\\xa0for\\xa0developing\\xa0AI\\xa0apps,\\xa0managing\\xa0data,\\xa0and governing\\xa0the\\xa0entire\\xa0lifecycle\\xa0of\\xa0AI\\xa0models.\\xa0AI\\xa0assistants manage\\xa0key\\xa0tasks,\\xa0including\\xa0customer\\xa0service\\xa0and\\xa0writing code. We are developing pre-built AI agents that deliver multitask reasoning for specific business domains. And our Granite family of fit-for-purpose AI models, when tuned with proprietary data, can deliver enterprise-grade generative AI with up to 90% improved cost efficiency. Granite allows clients to\\xa0bring\\xa0their\\xa0own\\xa0data\\xa0into\\xa0the\\xa0models,\\xa0and\\xa0can\\xa0be\\xa0trained\\xa0on that\\xa0data\\xa0in\\xa0weeks,\\xa0not\\xa0months.\\n\\nInfrastructure revenue\\xa0declined\\xa03%\\xa0at\\xa0constant\\xa0currency,\\xa0in line\\xa0with\\xa0product\\xa0cycle\\xa0expectations.\\xa0IBM\\xa0z16\\xa0is\\xa0now\\xa0the\\xa0most successful\\xa0mainframe\\xa0program\\xa0in\\xa0our\\xa0history,\\xa0highlighting\\xa0its enduring\\xa0value\\xa0to\\xa0clients.\",\n",
       "   \"## Management Discussion\\n\\nInternational Business Machines Corporation and Subsidiary Companies\\n\\nSoftware revenue of $27,085 million increased 8.3 percent as reported (9.0 percent adjusted for currency) in 2024 compared to the prior year, reflecting growth across all lines of business with double-digit growth in Red Hat and Automation and high single-digit growth  in  Transaction  Processing.  This  revenue  performance  reflects  the  investments  we  have  been  making  in  Software,  both organically and through acquisitions. Our investments in generative AI are contributing to growth, as we had strong demand for our generative AI products such as watsonx, Concert and our AI assistants. We also launched new products in the fourth quarter of 2024  including  our  next  generation  of  watsonx  Code  Assistant  and  Guardium  Quantum  Safe.  In  2024,  we  also  had  increased revenue contribution from acquisitions compared to the prior year, including Apptio and StreamSets and webMethods. In addition, we  had  solid  growth  in  our  recurring  revenue  and  double-digit  growth  in  our  transactional  software  revenue  in  2024,  as  we accelerated growth through innovation across our Software portfolio.\\n\\nHybrid Platform &amp; Solutions revenue of $18,808 million increased 8.1 percent as reported (8.7 percent adjusted for currency) in 2024 compared to the prior year. Within Hybrid Platform &amp; Solutions, Red Hat revenue increased 11.4 percent as reported (12.0 percent  adjusted  for  currency),  which  reflects  the  continued  demand  for  our  hybrid  cloud  solutions  as  clients  are  prioritizing application modernization on OpenShift containers and Ansible automation to optimize their IT spending and reduce operational complexity. In 2024, we had double-digit revenue growth in OpenShift and Ansible, and high single-digit revenue growth in RHEL. The  growth  in  OpenShift  revenue  reflects  increased  volume  in  OpenShift  Virtualization  engagements,  and  we  exited  2024  with OpenShift annual recurring revenue of $1.4 billion. Automation revenue increased 14.2 percent as reported (14.8 percent adjusted for  currency),  driven  by  our  SaaS  subscription  offerings  such  as  AIOps  and  Management,  which  includes  the  higher  revenue contribution  from Apptio.  Data  &amp;  AI  revenue  increased  1.6  percent  as  reported  (2.2  percent  adjusted  for  currency),  with  strong growth in  Data  Fabric  and  our  AI  assistant  for  Customer  Care,  driven  by  client  demand  for  our  watsonx  platform  offerings,  and strength  in  asset  and  supply  chain  management  software  which  helps  clients  run  sustainable  operations.  Security  revenue increased 0.8 percent as reported (1.5 percent adjusted for currency), with revenue growth in data security and identity and access management, partially offset by a revenue decline in security threat management.\\n\\nAcross Hybrid Platform &amp; Solutions, our annual recurring revenue (ARR) was $15.3 billion exiting 2024, growing at a double-digit rate compared to the prior year. ARR is a key performance metric management uses to assess the health and growth trajectory of our  Hybrid  Platform  &amp;  Solutions  business  within  the  Software  segment.  The  metric  was  updated  in  the  first  quarter  of 2024  to reflect the organizational changes described in the 'Organization of Information' section above, and to simplify the calculation. ARR is  calculated  by  using  the  current  quarter's  recurring  revenue  and  then  multiplying  that  value  by  four.  This  value  includes  the following  consumption  models:  (1)  software  subscription  agreements,  including  committed  term  licenses,  (2)  as-a-service arrangements such as SaaS and PaaS, and (3) maintenance and support contracts. ARR should be viewed independently of revenue as this performance metric and its inputs may not represent revenue that will be recognized in future periods.\\n\\nTransaction Processing revenue of $8,277 million increased 8.7 percent as reported (9.6 percent adjusted for currency) in 2024 compared to the prior year. The performance in 2024 is the result of the combination of clients' growing capacity demands, solid renewal rates,  and  increased  contribution  from  our  generative  AI  products,  including  watsonx  code  assistant  for  Z.  This  growth reflects the innovation and value of our transaction processing software, which helps our clients manage their most mission-critical workloads.\",\n",
       "   '## Dear\\xa0IBM\\xa0Investor:\\n\\nIn 2024, IBM made significant progress\\xa0in\\xa0becoming\\xa0a\\xa0higher\\xa0growth, higher\\xa0margin\\xa0business.\\xa0We\\xa0made\\xa0this progress\\xa0by\\xa0combining\\xa0technology innovation\\xa0and\\xa0consulting\\xa0expertise to\\xa0drive\\xa0growth,\\xa0improve\\xa0productivity, and enhance operational efficiency -for\\xa0our\\xa0clients,\\xa0and\\xa0our\\xa0own\\xa0company.\\n\\nOur\\xa0strategy\\xa0continues\\xa0to\\xa0build\\xa0upon\\xa0the\\xa0two\\xa0technological foundations\\xa0of\\xa0AI\\xa0and\\xa0hybrid\\xa0cloud,\\xa0which\\xa0clients\\xa0need\\xa0to unlock\\xa0the\\xa0full\\xa0value\\xa0of\\xa0their\\xa0data.\\xa0We\\xa0have\\xa0made\\xa0a\\xa0series\\xa0of investments\\xa0to\\xa0accelerate\\xa0the\\xa0delivery\\xa0of\\xa0that\\xa0value\\xa0to\\xa0our clients,\\xa0from\\xa0transforming\\xa0the\\xa0way\\xa0we\\xa0work\\xa0to\\xa0reorienting\\xa0our portfolio around powerful, AI-based solutions.\\n\\nAs\\xa0this\\xa0report\\xa0demonstrates,\\xa0these\\xa0investments\\xa0are\\xa0paying off,\\xa0delivering\\xa0meaningful\\xa0returns\\xa0for\\xa0our\\xa0shareholders, clients, and partners. Today, IBM is a software-led, fully integrated\\xa0platform\\xa0company,\\xa0built\\xa0to\\xa0grow\\xa0sustainably.\\xa0This is\\xa0the\\xa0ROI\\xa0of\\xa0IBM.']}]"
      ]
     },
     "execution_count": 49,
     "metadata": {},
     "output_type": "execute_result"
    }
   ],
   "source": [
    "data[0:2]"
   ]
  },
  {
   "cell_type": "code",
   "execution_count": 50,
   "metadata": {},
   "outputs": [
    {
     "name": "stderr",
     "output_type": "stream",
     "text": [
      "2025-07-01 13:33:53,935 - evaluation_utilities - DEBUG - Sending prompt to LLM:\n",
      "\n",
      "You are an expert at evaluating the intent behind responses.\n",
      "Given the following Question and Candidate Answer, your task is to determine if the Candidate Answer is making a direct and genuine attempt to address or provide a response to the *specific* Question asked.\n",
      "\n",
      "**CRITICAL RULE:** You MUST COMPLETELY IGNORE the factual accuracy or correctness of the Candidate Answer. Whether the answer is right or wrong is irrelevant for this task. Your sole focus is on its relevance and whether it appears to be an *intended, on-topic reply* to the question.\n",
      "\n",
      "* Respond with \"YES\" if the Candidate Answer clearly tries to directly answer the Question, even if it's factually incorrect, incomplete, or vague.\n",
      "* Respond with \"NO\" if the Candidate Answer is off-topic, evasive, tangential, asks another question, or discusses unrelated subjects (even if broadly similar).\n",
      "\n",
      "---\n",
      "Question: How did IBM's 2024 partnerships affect its financial performance?\n",
      "Candidate Answer: The provided context does not explicitly mention specific partnerships or their direct impact on IBM's financial performance in 2024. However, it highlights IBM's strategic focus on technology innovation and consulting expertise, particularly in AI and hybrid cloud, which are likely supported by partnerships. The context emphasizes IBM's investments in these areas, contributing to revenue growth and improved margins. While partnerships are not directly mentioned, the overall strategy and investments in AI and hybrid cloud, which often involve collaborations, have positively impacted IBM's financial performance, as evidenced by increased revenue, expanded profit margins, and significant growth in software and AI-related offerings.\n",
      "---\n",
      "\n",
      "Is the candidate answer attempting to answer the question?\n",
      "\n",
      "2025-07-01 13:33:54,711 - evaluation_utilities - DEBUG - LLM response:\n",
      "YES\n"
     ]
    },
    {
     "data": {
      "text/plain": [
       "True"
      ]
     },
     "execution_count": 50,
     "metadata": {},
     "output_type": "execute_result"
    }
   ],
   "source": [
    "evaluation_utilities.LOGGER.setLevel(logging.DEBUG)\n",
    "response = evaluation_utilities.check_if_answer_is_attempting_to_answer_question(\n",
    "    data[1][\"user_input\"], data[1][\"reference\"], question_generator_model\n",
    ")\n",
    "evaluation_utilities.LOGGER.setLevel(logging.INFO)\n",
    "response"
   ]
  },
  {
   "cell_type": "code",
   "execution_count": 51,
   "metadata": {},
   "outputs": [
    {
     "name": "stdout",
     "output_type": "stream",
     "text": [
      "Rejecting question because it does not attempt to answer the question.\n",
      "What are IBM's key sustainability initiatives and their impact on corporate responsibility in 2024?\n",
      "The provided context does not explicitly detail IBM's key sustainability initiatives or their impact on corporate responsibility in 2024. However, it does highlight IBM's focus on becoming a higher growth, higher margin business through technology innovation and consulting expertise, particularly in AI and hybrid cloud. These efforts are aimed at driving growth, improving productivity, and enhancing operational efficiency. Additionally, IBM emphasizes its commitment to developing the skills of its workforce to lead future technology eras, which could be seen as part of its broader corporate responsibility efforts. For specific information on sustainability initiatives, one would need to refer to additional resources or reports from IBM.\n",
      "--------------------------------\n",
      "Rejecting question because it does not attempt to answer the question.\n",
      "What are the key regulatory challenges IBM faced in 2024 according to the annual report?\n",
      "The provided context does not specify the key regulatory challenges IBM faced in 2024. To find this information, one would need to refer to IBM's 2024 Form 10-K filed on February 25, 2025, particularly in the section that discusses risk factors or regulatory challenges.\n",
      "--------------------------------\n",
      "Rejecting question because it does not attempt to answer the question.\n",
      "What r key risk factors IBM faces in 2024 and how is it addressing regulatory compliance?\n",
      "The provided context does not specify the key risk factors IBM faces in 2024 or how it is addressing regulatory compliance. For detailed information on IBM's risk factors and regulatory compliance strategies, you would need to refer to IBM's Annual Report on Form 10-K filed with the SEC on February 25, 2025, specifically Item 1A entitled 'Risk Factors.' This document would provide comprehensive insights into the risks and compliance measures relevant to IBM during that period.\n",
      "--------------------------------\n"
     ]
    }
   ],
   "source": [
    "for qna in data:\n",
    "    if qna[\"reference_contexts\"]:\n",
    "        qna[\"has_reference_answer\"] = (\n",
    "            evaluation_utilities.check_if_answer_is_attempting_to_answer_question(\n",
    "                qna[\"user_input\"], qna[\"reference\"], question_generator_model\n",
    "            )\n",
    "        )\n",
    "        if not qna[\"has_reference_answer\"]:\n",
    "            print(\n",
    "                \"Rejecting question because it does not attempt to answer the question.\"\n",
    "            )\n",
    "            print(qna[\"user_input\"])\n",
    "            print(qna[\"reference\"])\n",
    "            print(\"--------------------------------\")\n",
    "    else:\n",
    "        qna[\"has_reference_answer\"] = False"
   ]
  },
  {
   "cell_type": "code",
   "execution_count": 52,
   "metadata": {},
   "outputs": [],
   "source": [
    "final_output_file = f\"./qna-{EXPERIMENT_SHORT_LABEL}-{len(data)}.json\""
   ]
  },
  {
   "cell_type": "code",
   "execution_count": 53,
   "metadata": {},
   "outputs": [
    {
     "data": {
      "text/plain": [
       "'./qna-ibm-2024b-78-77.json'"
      ]
     },
     "execution_count": 53,
     "metadata": {},
     "output_type": "execute_result"
    }
   ],
   "source": [
    "evaluation_utilities.write_json(data, final_output_file)\n",
    "final_output_file"
   ]
  }
 ],
 "metadata": {
  "kernelspec": {
   "display_name": "venv-llscomp-311",
   "language": "python",
   "name": "python3"
  },
  "language_info": {
   "codemirror_mode": {
    "name": "ipython",
    "version": 3
   },
   "file_extension": ".py",
   "mimetype": "text/x-python",
   "name": "python",
   "nbconvert_exporter": "python",
   "pygments_lexer": "ipython3",
   "version": "3.11.10"
  }
 },
 "nbformat": 4,
 "nbformat_minor": 2
}
